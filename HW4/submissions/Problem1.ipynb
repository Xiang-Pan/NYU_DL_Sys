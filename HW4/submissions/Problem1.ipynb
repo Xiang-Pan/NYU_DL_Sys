{
 "cells": [
  {
   "cell_type": "markdown",
   "metadata": {},
   "source": [
    "# Problem 1"
   ]
  },
  {
   "cell_type": "markdown",
   "metadata": {},
   "source": [
    "In this problem we will train a convolutional neural network for image classification using transfer learning. Transfer learning involves training a base network from scratch on a very large dataset (e.g., Imagenet1K with 1.2 M images and 1K categories) and then using this base network either as a feature extractor or as an initialization network for target task. Thus two major transfer learning scenarios are as follows:\n",
    "\n",
    "- Finetuning the base model: Instead of random initialization, we initialize the network with a pretrained network, like the one that is trained on Imagenet dataset. Rest of the training looks as usual however the learning rate schedule for transfer learning may be different.\n",
    "\n",
    "- Base model as fixed feature extractor: Here, we will freeze the weights for all of the network except that of the final fully connected layer. This last fully connected layer is replaced with a new one with random weights and only this layer is trained."
   ]
  },
  {
   "cell_type": "markdown",
   "metadata": {},
   "source": [
    "## (a)"
   ]
  },
  {
   "cell_type": "markdown",
   "metadata": {},
   "source": [
    "We use **CIFAR100** as our dastaset. \n",
    "\n",
    "We use the introduction from official website:\n",
    "\n",
    "This dataset is just like the CIFAR-10, except it has 100 classes containing 600 images each. There are 500 training images and 100 testing images per class. The 100 classes in the CIFAR-100 are grouped into 20 superclasses. Each image comes with a \"fine\" label (the class to which it belongs) and a \"coarse\" label (the superclass to which it belongs)."
   ]
  },
  {
   "cell_type": "code",
   "execution_count": 4,
   "metadata": {},
   "outputs": [],
   "source": [
    "from torchvision import datasets, transforms\n",
    "from torchvision.datasets import CIFAR100\n",
    "from torchvision.models import resnet50\n",
    "import torch.nn as nn"
   ]
  },
  {
   "cell_type": "code",
   "execution_count": 5,
   "metadata": {},
   "outputs": [
    {
     "name": "stdout",
     "output_type": "stream",
     "text": [
      "Files already downloaded and verified\n",
      "Files already downloaded and verified\n"
     ]
    }
   ],
   "source": [
    "# prepare_dataset\n",
    "train_transform = transforms.Compose([transforms.ToTensor()])\n",
    "test_transform = transforms.Compose([transforms.ToTensor()])\n",
    "train_dataset = CIFAR100(root='./cached_datasets', train=True, transform=train_transform, download=True)\n",
    "test_dataset = CIFAR100(root='./cached_datasets', train=False, transform=test_transform, download=True)\n"
   ]
  },
  {
   "cell_type": "markdown",
   "metadata": {},
   "source": [
    "### Dataset Description\n",
    "\n",
    "CIFAR100 is "
   ]
  },
  {
   "cell_type": "markdown",
   "metadata": {},
   "source": [
    "### Display Images"
   ]
  },
  {
   "cell_type": "markdown",
   "metadata": {},
   "source": [
    "We choose the class 0 and class 1 to display."
   ]
  },
  {
   "cell_type": "code",
   "execution_count": 25,
   "metadata": {},
   "outputs": [
    {
     "name": "stdout",
     "output_type": "stream",
     "text": [
      "Files already downloaded and verified\n"
     ]
    },
    {
     "data": {
      "image/png": "[encoded data removed]",
      "text/plain": [
       "<Figure size 720x720 with 4 Axes>"
      ]
     },
     "metadata": {
      "needs_background": "light"
     },
     "output_type": "display_data"
    }
   ],
   "source": [
    "train_dataset = CIFAR100(root='./cached_datasets', train=True, transform=None, download=True)\n",
    "\n",
    "def select_class(class_num=0):\n",
    "    for i in range(len(train_dataset)):\n",
    "        if train_dataset.targets[i] == class_num:\n",
    "            yield train_dataset.data[i]\n",
    "\n",
    "# display PIL Image\n",
    "import matplotlib.pyplot as plt\n",
    "g0 = select_class(class_num=0)\n",
    "g1 = select_class(class_num=1)\n",
    "plt.figure(figsize=(10,10))\n",
    "for i in range(2):\n",
    "    plt.subplot(2,2,i+1)\n",
    "    plt.imshow(next(g0))\n",
    "    plt.axis('off')\n",
    "\n",
    "for i in range(2):\n",
    "    plt.subplot(2,2,i+3)\n",
    "    plt.imshow(next(g1))\n",
    "    plt.axis('off')\n"
   ]
  },
  {
   "cell_type": "markdown",
   "metadata": {},
   "source": [
    "We display the class 0 and clas 1"
   ]
  },
  {
   "cell_type": "markdown",
   "metadata": {},
   "source": [
    "The target feature is various features of the objects."
   ]
  },
  {
   "cell_type": "markdown",
   "metadata": {},
   "source": [
    "## (b)\n",
    "First finetune by setting the same value of hyperparameters (learning rate=0.001, momentum=0.9) for all the layers. Keep batch size of 64 and train for 200-300 epochs or until model converges well. You will use a multi-step learning rate schedule and decay by a factor of 0.1 ( γ = 0.1 in the link below). You can choose steps at which you want to decay the learning rate but do 3 drops during the training. So the first drop will bring down the learning rate to 0.0001, second to 0.00001, third to 0.000001. For example, if training for 200 epochs, first drop can happen at epoch 60, second at epoch 120 and third at epoch 180. (8)"
   ]
  },
  {
   "cell_type": "code",
   "execution_count": 26,
   "metadata": {},
   "outputs": [],
   "source": [
    "import pytorch_lightning as pl\n",
    "import torchmetrics\n",
    "import torch\n",
    "from torch.optim.lr_scheduler import MultiStepLR\n",
    "\n",
    "class ResNetLightningModule(pl.LightningModule):\n",
    "    def __init__(self, hidden_size, output_size, optimizer_name='adam', use_dropout=False):\n",
    "        super(ResNetLightningModule, self).__init__()\n",
    "        self.model = resnet50(pretrained=True, progress=True)\n",
    "        self.model.fc = nn.Linear(2048, 100)\n",
    "\n",
    "        self.loss_fn = nn.CrossEntropyLoss()\n",
    "        self.acc_metric = torchmetrics.Accuracy()\n",
    "        self.optimizer_name = optimizer_name\n",
    "        \n",
    "    def forward(self, x):\n",
    "        return self.model(x)\n",
    "\n",
    "    def training_step(self, batch, batch_idx):\n",
    "        x, y = batch\n",
    "        y_hat = self.model(x)\n",
    "        loss = self.loss_fn(y_hat, y)\n",
    "        acc = self.acc_metric(y_hat, y)\n",
    "        self.log('train_loss', loss, prog_bar=False, on_epoch=True)\n",
    "        self.log('train_acc', acc, prog_bar=False, on_epoch=True)\n",
    "        logs = {'train_loss': loss}\n",
    "\n",
    "    def validation_step(self, batch, batch_idx):\n",
    "        x, y = batch\n",
    "        y_hat = self.model(x)\n",
    "        loss = self.loss_fn(y_hat, y)\n",
    "        acc = self.acc_metric(y_hat, y)\n",
    "        self.log('val_loss', loss, prog_bar=False, on_epoch=True)\n",
    "        self.log('val_acc', acc, prog_bar=False, on_epoch=True)\n",
    "\n",
    "    def configure_optimizers(self):\n",
    "        lr = 0.001\n",
    "        momentum = 0.9\n",
    "        batch_size = 64\n",
    "        optimizer = torch.optim.SGD(self.model.parameters(), lr=lr, momentum=momentum)\n",
    "\n",
    "        # multi_step_lr_scheduler\n",
    "        # For example, if training for 200 epochs, first drop can happen at epoch 60, second at epoch 120 and third at epoch 180.\n",
    "        scheduler = MultiStepLR(optimizer, milestones=[60, 120, 180], gamma=0.1)\n",
    "        return [optimizer], [scheduler]"
   ]
  },
  {
   "cell_type": "markdown",
   "metadata": {},
   "source": [
    "### Process Results\n",
    "\n",
    "All Layer Part"
   ]
  },
  {
   "cell_type": "code",
   "execution_count": 6,
   "metadata": {},
   "outputs": [],
   "source": [
    "import wandb\n",
    "\n",
    "api = wandb.Api()\n",
    "\n",
    "# Project is specified by <entity/project-name>\n",
    "runs = api.runs(\"xiang-pan/NYU_DL_Sys-HW4_problem1\")\n",
    "summary_list = [] \n",
    "config_list = [] \n",
    "name_list = [] \n",
    "for run in runs: \n",
    "    # run.summary are the output key/values like accuracy.\n",
    "    # We call ._json_dict to omit large files \n",
    "    summary_list.append(run.summary._json_dict) \n",
    "    # print(run)\n",
    "#     # run.config is the input metrics.\n",
    "#     # We remove special values that start with _.\n",
    "    config = {k:v for k,v in run.config.items() if not k.startswith('_')}\n",
    "    config_list.append(config) \n",
    "\n",
    "#     # run.name is the name of the run.\n",
    "    name_list.append(run.name)       \n",
    "\n",
    "import pandas as pd \n",
    "summary_df = pd.DataFrame.from_records(summary_list) \n",
    "config_df = pd.DataFrame.from_records(config_list) \n",
    "name_df = pd.DataFrame({'name': name_list}) \n",
    "all_df = pd.concat([name_df, config_df,summary_df], axis=1)\n",
    "\n",
    "all_df.to_csv(\"./problem1/1.csv\")\n"
   ]
  },
  {
   "cell_type": "code",
   "execution_count": 8,
   "metadata": {},
   "outputs": [
    {
     "data": {
      "text/html": [
       "<div>\n",
       "<style scoped>\n",
       "    .dataframe tbody tr th:only-of-type {\n",
       "        vertical-align: middle;\n",
       "    }\n",
       "\n",
       "    .dataframe tbody tr th {\n",
       "        vertical-align: top;\n",
       "    }\n",
       "\n",
       "    .dataframe thead th {\n",
       "        text-align: right;\n",
       "    }\n",
       "</style>\n",
       "<table border=\"1\" class=\"dataframe\">\n",
       "  <thead>\n",
       "    <tr style=\"text-align: right;\">\n",
       "      <th></th>\n",
       "      <th>name</th>\n",
       "      <th>_wandb</th>\n",
       "      <th>_timestamp</th>\n",
       "      <th>train_acc_step</th>\n",
       "      <th>train_acc_epoch</th>\n",
       "      <th>train_loss_epoch</th>\n",
       "      <th>trainer/global_step</th>\n",
       "      <th>_step</th>\n",
       "      <th>epoch</th>\n",
       "      <th>test_loss</th>\n",
       "      <th>train_loss_step</th>\n",
       "      <th>_runtime</th>\n",
       "      <th>test_acc</th>\n",
       "      <th>lr</th>\n",
       "    </tr>\n",
       "  </thead>\n",
       "  <tbody>\n",
       "    <tr>\n",
       "      <th>0</th>\n",
       "      <td>fix_backbone_0.1</td>\n",
       "      <td>{'runtime': 6665}</td>\n",
       "      <td>1649328205</td>\n",
       "      <td>0.8750</td>\n",
       "      <td>0.99972</td>\n",
       "      <td>0.001441</td>\n",
       "      <td>156400</td>\n",
       "      <td>3328</td>\n",
       "      <td>200</td>\n",
       "      <td>2.326900</td>\n",
       "      <td>0.586030</td>\n",
       "      <td>6669</td>\n",
       "      <td>0.6254</td>\n",
       "      <td>0.1</td>\n",
       "    </tr>\n",
       "    <tr>\n",
       "      <th>1</th>\n",
       "      <td>fix_backbone_0.0001</td>\n",
       "      <td>{'runtime': 6502}</td>\n",
       "      <td>1649328037</td>\n",
       "      <td>1.0000</td>\n",
       "      <td>0.99982</td>\n",
       "      <td>0.001364</td>\n",
       "      <td>156400</td>\n",
       "      <td>3328</td>\n",
       "      <td>200</td>\n",
       "      <td>2.292322</td>\n",
       "      <td>0.013677</td>\n",
       "      <td>6501</td>\n",
       "      <td>0.6268</td>\n",
       "      <td>0.0001</td>\n",
       "    </tr>\n",
       "    <tr>\n",
       "      <th>2</th>\n",
       "      <td>fix_backbone_0.001</td>\n",
       "      <td>{'runtime': 6642}</td>\n",
       "      <td>1649328179</td>\n",
       "      <td>0.9375</td>\n",
       "      <td>0.99960</td>\n",
       "      <td>0.001527</td>\n",
       "      <td>156400</td>\n",
       "      <td>3328</td>\n",
       "      <td>200</td>\n",
       "      <td>2.355145</td>\n",
       "      <td>0.079179</td>\n",
       "      <td>6644</td>\n",
       "      <td>0.6203</td>\n",
       "      <td>0.001</td>\n",
       "    </tr>\n",
       "    <tr>\n",
       "      <th>3</th>\n",
       "      <td>All_Layer_ 0.1</td>\n",
       "      <td>{'runtime': 6575}</td>\n",
       "      <td>1649298994</td>\n",
       "      <td>0.7500</td>\n",
       "      <td>0.99958</td>\n",
       "      <td>0.001589</td>\n",
       "      <td>156400</td>\n",
       "      <td>3328</td>\n",
       "      <td>200</td>\n",
       "      <td>2.319731</td>\n",
       "      <td>0.796069</td>\n",
       "      <td>6574</td>\n",
       "      <td>0.6237</td>\n",
       "      <td>0.1</td>\n",
       "    </tr>\n",
       "    <tr>\n",
       "      <th>4</th>\n",
       "      <td>All_layer_ 0.01</td>\n",
       "      <td>{'runtime': 6574}</td>\n",
       "      <td>1649298993</td>\n",
       "      <td>0.8125</td>\n",
       "      <td>0.99956</td>\n",
       "      <td>0.001666</td>\n",
       "      <td>156400</td>\n",
       "      <td>3328</td>\n",
       "      <td>200</td>\n",
       "      <td>2.329822</td>\n",
       "      <td>0.880829</td>\n",
       "      <td>6573</td>\n",
       "      <td>0.6225</td>\n",
       "      <td>0.01</td>\n",
       "    </tr>\n",
       "    <tr>\n",
       "      <th>5</th>\n",
       "      <td>All_Layer_0.0001</td>\n",
       "      <td>{'runtime': 6569}</td>\n",
       "      <td>1649298966</td>\n",
       "      <td>1.0000</td>\n",
       "      <td>0.99968</td>\n",
       "      <td>0.001428</td>\n",
       "      <td>156400</td>\n",
       "      <td>3328</td>\n",
       "      <td>200</td>\n",
       "      <td>2.334059</td>\n",
       "      <td>0.140334</td>\n",
       "      <td>6567</td>\n",
       "      <td>0.6243</td>\n",
       "      <td>0.0001</td>\n",
       "    </tr>\n",
       "  </tbody>\n",
       "</table>\n",
       "</div>"
      ],
      "text/plain": [
       "                  name             _wandb  _timestamp  train_acc_step  \\\n",
       "0     fix_backbone_0.1  {'runtime': 6665}  1649328205          0.8750   \n",
       "1  fix_backbone_0.0001  {'runtime': 6502}  1649328037          1.0000   \n",
       "2   fix_backbone_0.001  {'runtime': 6642}  1649328179          0.9375   \n",
       "3       All_Layer_ 0.1  {'runtime': 6575}  1649298994          0.7500   \n",
       "4      All_layer_ 0.01  {'runtime': 6574}  1649298993          0.8125   \n",
       "5     All_Layer_0.0001  {'runtime': 6569}  1649298966          1.0000   \n",
       "\n",
       "   train_acc_epoch  train_loss_epoch  trainer/global_step  _step  epoch  \\\n",
       "0          0.99972          0.001441               156400   3328    200   \n",
       "1          0.99982          0.001364               156400   3328    200   \n",
       "2          0.99960          0.001527               156400   3328    200   \n",
       "3          0.99958          0.001589               156400   3328    200   \n",
       "4          0.99956          0.001666               156400   3328    200   \n",
       "5          0.99968          0.001428               156400   3328    200   \n",
       "\n",
       "   test_loss  train_loss_step  _runtime  test_acc      lr  \n",
       "0   2.326900         0.586030      6669    0.6254     0.1  \n",
       "1   2.292322         0.013677      6501    0.6268  0.0001  \n",
       "2   2.355145         0.079179      6644    0.6203   0.001  \n",
       "3   2.319731         0.796069      6574    0.6237     0.1  \n",
       "4   2.329822         0.880829      6573    0.6225    0.01  \n",
       "5   2.334059         0.140334      6567    0.6243  0.0001  "
      ]
     },
     "execution_count": 8,
     "metadata": {},
     "output_type": "execute_result"
    }
   ],
   "source": [
    "import pandas as pd\n",
    "all_df = pd.read_csv(\"./problem1/1.csv\", index_col=0)\n",
    "all_df[\"lr\"] =  [i.split(\"_\")[-1] for i in all_df[\"name\"]]\n",
    "all_df"
   ]
  },
  {
   "cell_type": "markdown",
   "metadata": {},
   "source": [
    "## (c) \n",
    "\n",
    "Next keeping all the hyperparameters same as before (including multi-step learning rate schedule), change the learning rate to 0.01 and 0.1 uniformly for all the layers. This means keep all the layers at same learning rate. So you will be doing two experiments, one keeping learning rate of all layers at 0.01 and one with 0.1. Again finetune the model and report the final accuracy. How does the accuracy with the three learning rates compare ? Which learning rate gives you the best accuracy on the target dataset ? (6)"
   ]
  },
  {
   "cell_type": "markdown",
   "metadata": {},
   "source": [
    "We combine the results of (b) and (c)."
   ]
  },
  {
   "cell_type": "code",
   "execution_count": 10,
   "metadata": {},
   "outputs": [
    {
     "data": {
      "text/html": [
       "<div>\n",
       "<style scoped>\n",
       "    .dataframe tbody tr th:only-of-type {\n",
       "        vertical-align: middle;\n",
       "    }\n",
       "\n",
       "    .dataframe tbody tr th {\n",
       "        vertical-align: top;\n",
       "    }\n",
       "\n",
       "    .dataframe thead th {\n",
       "        text-align: right;\n",
       "    }\n",
       "</style>\n",
       "<table border=\"1\" class=\"dataframe\">\n",
       "  <thead>\n",
       "    <tr style=\"text-align: right;\">\n",
       "      <th></th>\n",
       "      <th>name</th>\n",
       "      <th>epoch</th>\n",
       "      <th>lr</th>\n",
       "      <th>test_acc</th>\n",
       "    </tr>\n",
       "  </thead>\n",
       "  <tbody>\n",
       "    <tr>\n",
       "      <th>3</th>\n",
       "      <td>All_Layer_ 0.1</td>\n",
       "      <td>200</td>\n",
       "      <td>0.1</td>\n",
       "      <td>0.6237</td>\n",
       "    </tr>\n",
       "    <tr>\n",
       "      <th>4</th>\n",
       "      <td>All_layer_ 0.01</td>\n",
       "      <td>200</td>\n",
       "      <td>0.01</td>\n",
       "      <td>0.6225</td>\n",
       "    </tr>\n",
       "    <tr>\n",
       "      <th>5</th>\n",
       "      <td>All_Layer_0.0001</td>\n",
       "      <td>200</td>\n",
       "      <td>0.0001</td>\n",
       "      <td>0.6243</td>\n",
       "    </tr>\n",
       "  </tbody>\n",
       "</table>\n",
       "</div>"
      ],
      "text/plain": [
       "               name  epoch      lr  test_acc\n",
       "3    All_Layer_ 0.1    200     0.1    0.6237\n",
       "4   All_layer_ 0.01    200    0.01    0.6225\n",
       "5  All_Layer_0.0001    200  0.0001    0.6243"
      ]
     },
     "execution_count": 10,
     "metadata": {},
     "output_type": "execute_result"
    }
   ],
   "source": [
    "accuracy_cols = [\"test_acc\"]\n",
    "display_cols = [\"name\", \"epoch\", \"lr\"] + accuracy_cols\n",
    "\n",
    "all_df[display_cols][3:]"
   ]
  },
  {
   "cell_type": "markdown",
   "metadata": {},
   "source": [
    "The best accuracy is obtained with learning rate of 0.0001."
   ]
  },
  {
   "cell_type": "markdown",
   "metadata": {},
   "source": [
    "# 2\n",
    "\n",
    "When using a pretrained model as feature extractor, all the layers of the network are frozen except the final layer. Thus except the last layer, none of the inner layers’ gradients are updated during backward pass with the target dataset. Since gradients do not need to be computed for most of the network, this is faster than finetuning."
   ]
  },
  {
   "cell_type": "markdown",
   "metadata": {},
   "source": [
    "(a) Now train only the last layer for 1, 0.1, 0.01, and 0.001 while keeping all the other hyperparameters and settings same as earlier for finetuning. Which learning rate gives you the best accuracy on the target dataset ? (8)"
   ]
  },
  {
   "cell_type": "code",
   "execution_count": 16,
   "metadata": {},
   "outputs": [
    {
     "data": {
      "text/html": [
       "<div>\n",
       "<style scoped>\n",
       "    .dataframe tbody tr th:only-of-type {\n",
       "        vertical-align: middle;\n",
       "    }\n",
       "\n",
       "    .dataframe tbody tr th {\n",
       "        vertical-align: top;\n",
       "    }\n",
       "\n",
       "    .dataframe thead th {\n",
       "        text-align: right;\n",
       "    }\n",
       "</style>\n",
       "<table border=\"1\" class=\"dataframe\">\n",
       "  <thead>\n",
       "    <tr style=\"text-align: right;\">\n",
       "      <th></th>\n",
       "      <th>name</th>\n",
       "      <th>epoch</th>\n",
       "      <th>lr</th>\n",
       "      <th>test_acc</th>\n",
       "    </tr>\n",
       "  </thead>\n",
       "  <tbody>\n",
       "    <tr>\n",
       "      <th>0</th>\n",
       "      <td>fix_backbone_0.1</td>\n",
       "      <td>200</td>\n",
       "      <td>0.1</td>\n",
       "      <td>0.6254</td>\n",
       "    </tr>\n",
       "    <tr>\n",
       "      <th>1</th>\n",
       "      <td>fix_backbone_0.0001</td>\n",
       "      <td>200</td>\n",
       "      <td>0.0001</td>\n",
       "      <td>0.6268</td>\n",
       "    </tr>\n",
       "    <tr>\n",
       "      <th>2</th>\n",
       "      <td>fix_backbone_0.001</td>\n",
       "      <td>200</td>\n",
       "      <td>0.001</td>\n",
       "      <td>0.6203</td>\n",
       "    </tr>\n",
       "  </tbody>\n",
       "</table>\n",
       "</div>"
      ],
      "text/plain": [
       "                  name  epoch      lr  test_acc\n",
       "0     fix_backbone_0.1    200     0.1    0.6254\n",
       "1  fix_backbone_0.0001    200  0.0001    0.6268\n",
       "2   fix_backbone_0.001    200   0.001    0.6203"
      ]
     },
     "execution_count": 16,
     "metadata": {},
     "output_type": "execute_result"
    }
   ],
   "source": [
    "accuracy_cols = [\"test_acc\"]\n",
    "display_cols = [\"name\", \"epoch\", \"lr\"] + accuracy_cols\n",
    "\n",
    "all_df[display_cols][0:3]"
   ]
  },
  {
   "cell_type": "markdown",
   "metadata": {},
   "source": [
    "The best accuracy is obtained with learning rate of 0.0001."
   ]
  },
  {
   "cell_type": "markdown",
   "metadata": {},
   "source": [
    "(b) For your target dataset find the best final accuracy (across all the learning rates) from the two transfer learning approaches. Which approach and learning rate is the winner? Provide a plausible explanation to support your observation. (4)"
   ]
  },
  {
   "cell_type": "markdown",
   "metadata": {},
   "source": [
    "There is not much difference between different learning settings. But the best combination is fix-backbone and only finutune the last layer with learning rate of 0.0001. The reason is that the model will not be overfitting to the target training dataset and can generalize better.\n",
    "\n",
    "Small learning rate is more suitable for the final-layer-tunning."
   ]
  }
 ],
 "metadata": {
  "interpreter": {
   "hash": "3f9a4dd55a47a1c8809831ea0aabb012e213f9e932e7e557374d5eaf81edb6c3"
  },
  "kernelspec": {
   "display_name": "Python 3.10.0 ('310')",
   "language": "python",
   "name": "python3"
  },
  "language_info": {
   "codemirror_mode": {
    "name": "ipython",
    "version": 3
   },
   "file_extension": ".py",
   "mimetype": "text/x-python",
   "name": "python",
   "nbconvert_exporter": "python",
   "pygments_lexer": "ipython3",
   "version": "3.10.0"
  },
  "orig_nbformat": 4
 },
 "nbformat": 4,
 "nbformat_minor": 2
}
