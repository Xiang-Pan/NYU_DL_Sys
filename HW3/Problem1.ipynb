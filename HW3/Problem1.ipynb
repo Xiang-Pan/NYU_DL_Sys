{
 "cells": [
  {
   "cell_type": "markdown",
   "id": "cc8e6499-2189-490b-b317-865fa50a8024",
   "metadata": {},
   "source": [
    "# Problem 1\n",
    "We will consider five methods, AdaGrad, RMSProp, RMSProp+Nesterov, AdaDelta, Adam, and study their convergence using CIFAR-10 dataset. We will use multi-layer neural network model with two fully connected hidden layers with 1000 hidden units each and ReLU activation with minibatch size of 128."
   ]
  },
  {
   "cell_type": "markdown",
   "id": "00e8bcb8",
   "metadata": {},
   "source": [
    "## 1\n",
    "Write the weight update equations for the five adaptive learning rate methods. Explain each term clearly. What are the hyperparameters in each policy? Explain how AdaDelta and Adam are different from RMSProp. (5+1)"
   ]
  },
  {
   "cell_type": "markdown",
   "id": "3b386c43",
   "metadata": {},
   "source": [
    "We provide the SGD equation first for clearly explaining the following methods."
   ]
  },
  {
   "cell_type": "markdown",
   "id": "7f33d9a9",
   "metadata": {},
   "source": [
    "### SGD\n",
    "We use $g_{t}$ to denote the gradient at time step $t . g_{t, i}$ is then the partial derivative of the objective function w.r.t. to the parameter $\\theta_{i}$ at time step $t$:\n",
    "\\begin{equation}\n",
    "g_{t, i}=\\nabla_{\\theta} J\\left(\\theta_{t, i}\\right)\n",
    "\\end{equation}\n",
    "\n",
    "The SGD update for every parameter $\\theta_{i}$ at each time step $t$ then becomes:\n",
    "\\begin{equation}\n",
    "\\theta_{t+1, i}=\\theta_{t, i}-\\eta \\cdot g_{t, i} .\n",
    "\\end{equation}"
   ]
  },
  {
   "cell_type": "markdown",
   "id": "aff76653",
   "metadata": {},
   "source": [
    "### AdaGrad\n",
    "\\begin{equation}\n",
    "\\theta_{t+1, i}=\\theta_{t, i}-\\frac{\\eta}{\\sqrt{G_{t, i i}+\\epsilon}} \\cdot g_{t, i}\n",
    "\\end{equation}\n",
    "\n",
    "$G_{t} \\in \\mathbb{R}^{d \\times d}$ here is a diagonal matrix where each diagonal element $i, i$ is the sum of the squares of the gradients w.r.t. $\\theta_{i}$ up to time step $t$, while $\\epsilon$ is a smoothing term that avoids division by zero (usually on the order of $1 e-8$ ).\n",
    "\n",
    "We can also write the vectorized version of the update equation as:\n",
    "\n",
    "\\begin{equation}\n",
    "\\Delta \\theta_{t}=-\\frac{\\eta}{\\sqrt{G_{t}+\\epsilon}} \\odot g_{t}\n",
    "\\end{equation}\n",
    "\n",
    "\\begin{equation}\n",
    "\\theta_{t+1}=\\theta_{t}-\\frac{\\eta}{\\sqrt{G_{t}+\\epsilon}} \\odot g_{t}\n",
    "\\end{equation}\n",
    "\n",
    "$\\eta$ is the learning rate, $\\epsilon$ is the smoothing term, and ${G_{t}}$ is the the sum of the squares of the gradients.\n",
    "\n",
    "Hyperparameters: $\\eta$, $\\epsilon$\n"
   ]
  },
  {
   "cell_type": "markdown",
   "id": "2e8baab8",
   "metadata": {},
   "source": [
    "### RMSProp"
   ]
  },
  {
   "cell_type": "markdown",
   "id": "2b30c2aa",
   "metadata": {},
   "source": [
    "Instead of accumulating all past squared gradients, Adadelta restricts the window of accumulated past gradients to some fixed size $w$. The sum of gradients is recursively updated using a decaying average of the past gradients.\n",
    "\n",
    "\\begin{equation}\n",
    "E\\left[g^{2}\\right]_{t}=\\gamma E\\left[g^{2}\\right]_{t-1}+(1-\\gamma) g_{t}^{2},\n",
    "\\end{equation}\n",
    "\n",
    "\n",
    "$E\\left[g^{2}\\right]$ is the decayed average of the past squared gradients, $\\epsilon$ is the smoothing term, and $\\gamma$ is the decay rate.\n",
    "\n",
    "\\begin{equation}\n",
    "\\Delta \\theta_{t}=-\\frac{\\eta}{\\sqrt{E\\left[g^{2}\\right]_{t}+\\epsilon}} g_{t}\n",
    "\\end{equation}\n",
    "\n",
    "\\begin{equation}\n",
    "\\theta_{t+1}=\\theta_{t}-\\frac{\\eta}{\\sqrt{E\\left[g^{2}\\right]_{t}+\\epsilon}} g_{t}\n",
    "\\end{equation}"
   ]
  },
  {
   "cell_type": "markdown",
   "id": "67736f99",
   "metadata": {},
   "source": [
    "### AdaDelta"
   ]
  },
  {
   "cell_type": "markdown",
   "id": "2e6faac2",
   "metadata": {},
   "source": [
    "\\begin{equation}\n",
    "\\Delta \\theta_{t}=-\\frac{\\eta}{R M S[g]_{t}} g_{t}\n",
    "\\end{equation}\n",
    "\n",
    "\n",
    "\\begin{equation}\n",
    "E\\left[\\Delta \\theta^{2}\\right]_{t}=\\gamma E\\left[\\Delta \\theta^{2}\\right]_{t-1}+(1-\\gamma) \\Delta \\theta_{t}^{2}\n",
    "\\end{equation}\n",
    "\n",
    "\\begin{equation}\n",
    "R M S[\\Delta \\theta]_{t}=\\sqrt{E\\left[\\Delta \\theta^{2}\\right]_{t}+\\epsilon}\n",
    "\\end{equation}\n",
    "\n",
    "\\begin{equation}\n",
    "\\begin{aligned}\n",
    "\\Delta \\theta_{t} &=-\\frac{R M S[\\Delta \\theta]_{t-1}}{R M S[g]_{t}} g_{t} \\\\\n",
    "\\theta_{t+1} &=\\theta_{t}+\\Delta \\theta_{t}\n",
    "\\end{aligned}\n",
    "\\end{equation}\n",
    "\n",
    "\n",
    "**Difference with RMSProp:**\n",
    "The accumulated gradient $E\\left[g^{2}\\right]_{t}$ is decayed."
   ]
  },
  {
   "cell_type": "markdown",
   "id": "1b627028",
   "metadata": {},
   "source": [
    "### Adam\n",
    "We compute the decaying averages of past and past squared gradients $m_{t}$ and $v_{t}$ respectively as follows:\n",
    "\n",
    "\\begin{equation}\n",
    "\\begin{aligned}\n",
    "m_{t} &=\\beta_{1} m_{t-1}+\\left(1-\\beta_{1}\\right) g_{t} \\\\\n",
    "v_{t} &=\\beta_{2} v_{t-1}+\\left(1-\\beta_{2}\\right) g_{t}^{2}\n",
    "\\end{aligned}\n",
    "\\end{equation}\n",
    "\n",
    "$m_{t}$ and $v_{t}$ are estimates of the first moment (the mean) and the second moment (the uncentered variance) of the gradients respectively.\n",
    "\n",
    "\\begin{equation}\n",
    "\\begin{aligned}\n",
    "\\hat{m}_{t} &=\\frac{m_{t}}{1-\\beta_{1}^{t}} \\\\\n",
    "\\hat{v}_{t} &=\\frac{v_{t}}{1-\\beta_{2}^{t}}\n",
    "\\end{aligned}\n",
    "\\end{equation}\n",
    "\n",
    "\\begin{equation}\n",
    "\\theta_{t+1}=\\theta_{t}-\\frac{\\eta}{\\sqrt{\\hat{v}_{t}}+\\epsilon} \\hat{m}_{t}\n",
    "\\end{equation}\n",
    "\n",
    "\n",
    "Hyperparameters: $\\beta_{1}$, $\\beta_{2}$, $\\epsilon$\n",
    "\n",
    "**Difference with RMSProp**:\n",
    "The gradient is not the decayed sum of squares of the gradients, but the estimated mean of the past gradients."
   ]
  },
  {
   "cell_type": "markdown",
   "id": "2826a81d",
   "metadata": {},
   "source": [
    "## 2\n",
    "Train the neural network using all the five methods with L2-regularization for 200 epochs each and plot the training loss vs number of epochs. Which method performs best (lowest training loss)?\n",
    "\n",
    "AdaGrad, RMSProp, RMSProp+Nesterov, AdaDelta, Adam"
   ]
  },
  {
   "cell_type": "code",
   "execution_count": 4,
   "id": "e2c944f6",
   "metadata": {},
   "outputs": [],
   "source": [
    "import pytorch_lightning as pl\n",
    "import torch.nn as nn\n",
    "import torch\n",
    "import torchvision\n",
    "import torchvision.datasets as datasets\n",
    "import torchvision.transforms as transforms\n",
    "import wandb\n",
    "from pytorch_lightning.loggers import WandbLogger\n",
    "\n",
    "class MLP(nn.Module):\n",
    "    def __init__(self, input_size, hidden_size, output_size, use_dropout=False):\n",
    "        super(MLP, self).__init__()\n",
    "        self.fc1 = nn.Linear(input_size, hidden_size)\n",
    "        self.relu1 = nn.ReLU()\n",
    "        self.dropout1 = nn.Dropout(0.2)\n",
    "\n",
    "        self.fc2 = nn.Linear(hidden_size, output_size)\n",
    "        self.droup2 = nn.Dropout(0.5)\n",
    "\n",
    "        self.use_dropout = use_dropout\n",
    "    def forward(self, x):\n",
    "        batch_size = x.size(0)\n",
    "        x = x.view(batch_size, -1, self.fc1.in_features)\n",
    "        if self.use_dropout:\n",
    "            x = self.fc1(x)\n",
    "            x = self.relu1(x)\n",
    "            x = self.dropout1(x)\n",
    "            x = self.fc2(x).squeeze()\n",
    "            x = self.droup2(x)\n",
    "        else:\n",
    "            x = self.fc1(x)\n",
    "            x = self.relu1(x)\n",
    "            x = self.fc2(x).squeeze()\n",
    "        return x\n",
    "\n",
    "class MLPLightningModule(pl.LightningModule):\n",
    "    def __init__(self, hidden_size, output_size, optimizer_name='adam', use_dropout=False):\n",
    "        super(MLPLightningModule, self).__init__()\n",
    "        self.model = MLP(input_size=3*32*32, hidden_size=hidden_size, output_size=output_size, use_dropout=use_dropout)\n",
    "        self.loss_fn = nn.CrossEntropyLoss()\n",
    "        self.optimizer_name = optimizer_name\n",
    "        \n",
    "    def forward(self, x):\n",
    "        return self.model(x)\n",
    "\n",
    "    def training_step(self, batch, batch_idx):\n",
    "        x, y = batch\n",
    "        y_hat = self.model(x)\n",
    "        # print(y_hat.shape)\n",
    "        loss = self.loss_fn(y_hat, y)\n",
    "        self.log('train_loss', loss, prog_bar=True, on_epoch=True)\n",
    "        logs = {'train_loss': loss}\n",
    "        return {'loss': loss, 'log': logs}\n",
    "\n",
    "    def train_dataloader(self):\n",
    "        train_dataset = datasets.CIFAR10(root='./cached_datasets/CIFAR10', train=True, download=True, transform=transforms.ToTensor())\n",
    "        return torch.utils.data.DataLoader(train_dataset, batch_size=128, shuffle=True, num_workers=20)\n",
    "\n",
    "    def validation_step(self, batch, batch_idx):\n",
    "        x, y = batch\n",
    "        y_hat = self.model(x)\n",
    "        loss = self.loss_fn(y_hat, y)\n",
    "        return {'val_loss': loss}\n",
    "    def validation_end(self, outputs):\n",
    "        avg_loss = torch.stack([x['val_loss'] for x in outputs]).mean()\n",
    "        logs = {'val_loss': avg_loss}\n",
    "        return {'val_loss': avg_loss, 'log': logs}\n",
    "\n",
    "    def configure_optimizers(self):\n",
    "        print(self.optimizer_name, self.optimizer_name == \"RMSprop\")\n",
    "        if self.optimizer_name == 'Adagrad':\n",
    "            optimizer = torch.optim.Adagrad(self.parameters(), lr=0.001, weight_decay=1e-5)\n",
    "        if self.optimizer_name == \"RMSprop\":\n",
    "            optimizer = torch.optim.RMSprop(self.parameters(), lr=0.001, weight_decay=1e-5)\n",
    "        if self.optimizer_name == 'RMSprop+Nesterov':\n",
    "            optimizer = torch.optim.RMSprop(self.parameters(), lr=0.001, weight_decay=1e-5, momentum=0.9)\n",
    "        if self.optimizer_name == 'Adadelta':\n",
    "            optimizer = torch.optim.Adadelta(self.parameters(), lr=0.001, weight_decay=1e-5)\n",
    "        if self.optimizer_name == 'Adam':\n",
    "            optimizer = torch.optim.Adam(self.parameters(), lr=0.001, weight_decay=1e-5)\n",
    "        return optimizer"
   ]
  },
  {
   "cell_type": "markdown",
   "id": "4555f3c2",
   "metadata": {},
   "source": [
    "### Adagrad"
   ]
  },
  {
   "cell_type": "code",
   "execution_count": null,
   "id": "d4b62d68",
   "metadata": {},
   "outputs": [],
   "source": [
    "run = wandb.init(group='1.2')\n",
    "run.display(height=720)\n",
    "optimizer_name = \"Adagrad\"\n",
    "wandb.run.name = f\"{optimizer_name}_cifar10\"\n",
    "logger = WandbLogger(project='HW3_1', save_dir=\"./outputs\", name=optimizer_name)\n",
    "trainer = pl.Trainer(gpus=1, max_epochs=200, logger=logger)\n",
    "model = MLPLightningModule(hidden_size=1000, output_size=10, optimizer_name=optimizer_name)\n",
    "trainer.fit(model)"
   ]
  },
  {
   "cell_type": "markdown",
   "id": "1582310b",
   "metadata": {},
   "source": [
    "### RMSprop"
   ]
  },
  {
   "cell_type": "code",
   "execution_count": 10,
   "id": "c6bf20e4",
   "metadata": {},
   "outputs": [
    {
     "data": {
      "text/html": [
       "Finishing last run (ID:kvuoo4as) before initializing another..."
      ],
      "text/plain": [
       "<IPython.core.display.HTML object>"
      ]
     },
     "metadata": {},
     "output_type": "display_data"
    },
    {
     "name": "stdout",
     "output_type": "stream",
     "text": [
      "\n"
     ]
    },
    {
     "data": {
      "text/html": [
       "Waiting for W&B process to finish... <strong style=\"color:green\">(success).</strong>"
      ],
      "text/plain": [
       "<IPython.core.display.HTML object>"
      ]
     },
     "metadata": {},
     "output_type": "display_data"
    },
    {
     "data": {
      "application/vnd.jupyter.widget-view+json": {
       "model_id": "f50d1118868141f783b96cba59f9a272",
       "version_major": 2,
       "version_minor": 0
      },
      "text/plain": [
       "VBox(children=(Label(value='0.001 MB of 0.001 MB uploaded (0.000 MB deduped)\\r'), FloatProgress(value=1.0, max…"
      ]
     },
     "metadata": {},
     "output_type": "display_data"
    },
    {
     "data": {
      "text/html": [
       "Synced <strong style=\"color:#cdcd00\">fallen-resonance-25</strong>: <a href=\"https://wandb.ai/xiang-pan/NYU_DL_Sys-HW3/runs/kvuoo4as\" target=\"_blank\">https://wandb.ai/xiang-pan/NYU_DL_Sys-HW3/runs/kvuoo4as</a><br/>Synced 5 W&B file(s), 0 media file(s), 0 artifact file(s) and 0 other file(s)"
      ],
      "text/plain": [
       "<IPython.core.display.HTML object>"
      ]
     },
     "metadata": {},
     "output_type": "display_data"
    },
    {
     "data": {
      "text/html": [
       "Find logs at: <code>./wandb/run-20220326_033831-kvuoo4as/logs</code>"
      ],
      "text/plain": [
       "<IPython.core.display.HTML object>"
      ]
     },
     "metadata": {},
     "output_type": "display_data"
    },
    {
     "data": {
      "text/html": [
       "Successfully finished last run (ID:kvuoo4as). Initializing new run:<br/>"
      ],
      "text/plain": [
       "<IPython.core.display.HTML object>"
      ]
     },
     "metadata": {},
     "output_type": "display_data"
    },
    {
     "data": {
      "text/html": [
       "Tracking run with wandb version 0.12.11"
      ],
      "text/plain": [
       "<IPython.core.display.HTML object>"
      ]
     },
     "metadata": {},
     "output_type": "display_data"
    },
    {
     "data": {
      "text/html": [
       "Run data is saved locally in <code>/home/xiangpan/Labs/NYU_DL_Sys/HW3/wandb/run-20220326_033958-2jtip8s5</code>"
      ],
      "text/plain": [
       "<IPython.core.display.HTML object>"
      ]
     },
     "metadata": {},
     "output_type": "display_data"
    },
    {
     "data": {
      "text/html": [
       "Syncing run <strong><a href=\"https://wandb.ai/xiang-pan/NYU_DL_Sys-HW3/runs/2jtip8s5\" target=\"_blank\">cosmic-snow-26</a></strong> to <a href=\"https://wandb.ai/xiang-pan/NYU_DL_Sys-HW3\" target=\"_blank\">Weights & Biases</a> (<a href=\"https://wandb.me/run\" target=\"_blank\">docs</a>)<br/>"
      ],
      "text/plain": [
       "<IPython.core.display.HTML object>"
      ]
     },
     "metadata": {},
     "output_type": "display_data"
    },
    {
     "name": "stderr",
     "output_type": "stream",
     "text": [
      "/home/xiangpan/.conda/envs/39/lib/python3.9/site-packages/IPython/core/display.py:724: UserWarning: Consider using IPython.display.IFrame instead\n",
      "  warnings.warn(\"Consider using IPython.display.IFrame instead\")\n"
     ]
    },
    {
     "data": {
      "text/html": [
       "<iframe src=\"https://wandb.ai/xiang-pan/NYU_DL_Sys-HW3/runs/2jtip8s5?jupyter=true\" style=\"border:none;width:100%;height:720px;\"></iframe>"
      ],
      "text/plain": [
       "<IPython.core.display.HTML object>"
      ]
     },
     "metadata": {},
     "output_type": "display_data"
    },
    {
     "name": "stderr",
     "output_type": "stream",
     "text": [
      "GPU available: True, used: True\n",
      "TPU available: False, using: 0 TPU cores\n",
      "IPU available: False, using: 0 IPUs\n",
      "/home/xiangpan/.conda/envs/39/lib/python3.9/site-packages/pytorch_lightning/trainer/configuration_validator.py:126: UserWarning: You defined a `validation_step` but have no `val_dataloader`. Skipping val loop.\n",
      "  rank_zero_warn(\"You defined a `validation_step` but have no `val_dataloader`. Skipping val loop.\")\n",
      "LOCAL_RANK: 0 - CUDA_VISIBLE_DEVICES: [0]\n",
      "\n",
      "  | Name    | Type             | Params\n",
      "---------------------------------------------\n",
      "0 | model   | MLP              | 3.1 M \n",
      "1 | loss_fn | CrossEntropyLoss | 0     \n",
      "---------------------------------------------\n",
      "3.1 M     Trainable params\n",
      "0         Non-trainable params\n",
      "3.1 M     Total params\n",
      "12.332    Total estimated model params size (MB)\n"
     ]
    },
    {
     "name": "stdout",
     "output_type": "stream",
     "text": [
      "RMSprop True\n",
      "Files already downloaded and verified\n"
     ]
    },
    {
     "data": {
      "application/vnd.jupyter.widget-view+json": {
       "model_id": "21359a59de1d4dadaaf4c31965dab85b",
       "version_major": 2,
       "version_minor": 0
      },
      "text/plain": [
       "Training: 0it [00:00, ?it/s]"
      ]
     },
     "metadata": {},
     "output_type": "display_data"
    },
    {
     "name": "stderr",
     "output_type": "stream",
     "text": [
      "/home/xiangpan/.conda/envs/39/lib/python3.9/site-packages/pytorch_lightning/loggers/wandb.py:341: UserWarning: There is a wandb run already in progress and newly created instances of `WandbLogger` will reuse this run. If this is not desired, call `wandb.finish()` before instantiating `WandbLogger`.\n",
      "  rank_zero_warn(\n"
     ]
    }
   ],
   "source": [
    "run = wandb.init(group='1.2')\n",
    "run.display(height=720)\n",
    "optimizer_name = \"RMSprop\"\n",
    "wandb.run.name = f\"{optimizer_name}_cifar10\"\n",
    "logger = WandbLogger(project='HW3_1', save_dir=\"./outputs\", name=optimizer_name)\n",
    "trainer = pl.Trainer(gpus=1, max_epochs=200, logger=logger)\n",
    "model = MLPLightningModule(hidden_size=1000, output_size=10, optimizer_name=optimizer_name)\n",
    "trainer.fit(model)"
   ]
  },
  {
   "cell_type": "markdown",
   "id": "4f8536d8",
   "metadata": {},
   "source": [
    "### RMSprop+Nesterov"
   ]
  },
  {
   "cell_type": "code",
   "execution_count": 5,
   "id": "c401392d",
   "metadata": {},
   "outputs": [
    {
     "data": {
      "text/html": [
       "Finishing last run (ID:3rrdrv17) before initializing another..."
      ],
      "text/plain": [
       "<IPython.core.display.HTML object>"
      ]
     },
     "metadata": {},
     "output_type": "display_data"
    },
    {
     "name": "stdout",
     "output_type": "stream",
     "text": [
      "\n"
     ]
    },
    {
     "data": {
      "text/html": [
       "Waiting for W&B process to finish... <strong style=\"color:green\">(success).</strong>"
      ],
      "text/plain": [
       "<IPython.core.display.HTML object>"
      ]
     },
     "metadata": {},
     "output_type": "display_data"
    },
    {
     "data": {
      "application/vnd.jupyter.widget-view+json": {
       "model_id": "a9de0490f47d43f89422dcb56b869c8f",
       "version_major": 2,
       "version_minor": 0
      },
      "text/plain": [
       "VBox(children=(Label(value='0.001 MB of 0.001 MB uploaded (0.000 MB deduped)\\r'), FloatProgress(value=1.0, max…"
      ]
     },
     "metadata": {},
     "output_type": "display_data"
    },
    {
     "data": {
      "text/html": [
       "Synced <strong style=\"color:#cdcd00\">flowing-sky-30</strong>: <a href=\"https://wandb.ai/xiang-pan/NYU_DL_Sys-HW3/runs/3rrdrv17\" target=\"_blank\">https://wandb.ai/xiang-pan/NYU_DL_Sys-HW3/runs/3rrdrv17</a><br/>Synced 5 W&B file(s), 0 media file(s), 0 artifact file(s) and 0 other file(s)"
      ],
      "text/plain": [
       "<IPython.core.display.HTML object>"
      ]
     },
     "metadata": {},
     "output_type": "display_data"
    },
    {
     "data": {
      "text/html": [
       "Find logs at: <code>./wandb/run-20220326_161806-3rrdrv17/logs</code>"
      ],
      "text/plain": [
       "<IPython.core.display.HTML object>"
      ]
     },
     "metadata": {},
     "output_type": "display_data"
    },
    {
     "data": {
      "text/html": [
       "Successfully finished last run (ID:3rrdrv17). Initializing new run:<br/>"
      ],
      "text/plain": [
       "<IPython.core.display.HTML object>"
      ]
     },
     "metadata": {},
     "output_type": "display_data"
    },
    {
     "data": {
      "text/html": [
       "Tracking run with wandb version 0.12.11"
      ],
      "text/plain": [
       "<IPython.core.display.HTML object>"
      ]
     },
     "metadata": {},
     "output_type": "display_data"
    },
    {
     "data": {
      "text/html": [
       "Run data is saved locally in <code>/home/xiangpan/Labs/NYU_DL_Sys/HW3/wandb/run-20220326_162049-1klv9acs</code>"
      ],
      "text/plain": [
       "<IPython.core.display.HTML object>"
      ]
     },
     "metadata": {},
     "output_type": "display_data"
    },
    {
     "data": {
      "text/html": [
       "Syncing run <strong><a href=\"https://wandb.ai/xiang-pan/NYU_DL_Sys-HW3/runs/1klv9acs\" target=\"_blank\">sandy-lion-31</a></strong> to <a href=\"https://wandb.ai/xiang-pan/NYU_DL_Sys-HW3\" target=\"_blank\">Weights & Biases</a> (<a href=\"https://wandb.me/run\" target=\"_blank\">docs</a>)<br/>"
      ],
      "text/plain": [
       "<IPython.core.display.HTML object>"
      ]
     },
     "metadata": {},
     "output_type": "display_data"
    },
    {
     "name": "stderr",
     "output_type": "stream",
     "text": [
      "/home/xiangpan/.conda/envs/39/lib/python3.9/site-packages/IPython/core/display.py:724: UserWarning: Consider using IPython.display.IFrame instead\n",
      "  warnings.warn(\"Consider using IPython.display.IFrame instead\")\n"
     ]
    },
    {
     "data": {
      "text/html": [
       "<iframe src=\"https://wandb.ai/xiang-pan/NYU_DL_Sys-HW3/runs/1klv9acs?jupyter=true\" style=\"border:none;width:100%;height:720px;\"></iframe>"
      ],
      "text/plain": [
       "<IPython.core.display.HTML object>"
      ]
     },
     "metadata": {},
     "output_type": "display_data"
    },
    {
     "name": "stderr",
     "output_type": "stream",
     "text": [
      "GPU available: True, used: True\n",
      "TPU available: False, using: 0 TPU cores\n",
      "IPU available: False, using: 0 IPUs\n",
      "/home/xiangpan/.conda/envs/39/lib/python3.9/site-packages/pytorch_lightning/trainer/configuration_validator.py:126: UserWarning: You defined a `validation_step` but have no `val_dataloader`. Skipping val loop.\n",
      "  rank_zero_warn(\"You defined a `validation_step` but have no `val_dataloader`. Skipping val loop.\")\n",
      "LOCAL_RANK: 0 - CUDA_VISIBLE_DEVICES: [0]\n",
      "\n",
      "  | Name    | Type             | Params\n",
      "---------------------------------------------\n",
      "0 | model   | MLP              | 3.1 M \n",
      "1 | loss_fn | CrossEntropyLoss | 0     \n",
      "---------------------------------------------\n",
      "3.1 M     Trainable params\n",
      "0         Non-trainable params\n",
      "3.1 M     Total params\n",
      "12.332    Total estimated model params size (MB)\n"
     ]
    },
    {
     "name": "stdout",
     "output_type": "stream",
     "text": [
      "RMSprop+Nesterov False\n",
      "Files already downloaded and verified\n"
     ]
    },
    {
     "data": {
      "application/vnd.jupyter.widget-view+json": {
       "model_id": "d983713225fc4b0ba11d6a50017526c5",
       "version_major": 2,
       "version_minor": 0
      },
      "text/plain": [
       "Training: 0it [00:00, ?it/s]"
      ]
     },
     "metadata": {},
     "output_type": "display_data"
    },
    {
     "name": "stderr",
     "output_type": "stream",
     "text": [
      "/home/xiangpan/.conda/envs/39/lib/python3.9/site-packages/pytorch_lightning/loggers/wandb.py:341: UserWarning: There is a wandb run already in progress and newly created instances of `WandbLogger` will reuse this run. If this is not desired, call `wandb.finish()` before instantiating `WandbLogger`.\n",
      "  rank_zero_warn(\n"
     ]
    }
   ],
   "source": [
    "run = wandb.init(group='1.2')\n",
    "run.display(height=720)\n",
    "optimizer_name = \"RMSprop+Nesterov\"\n",
    "wandb.run.name = f\"{optimizer_name}_cifar10\"\n",
    "logger = WandbLogger(project='HW3_1', save_dir=\"./outputs\", name=optimizer_name)\n",
    "trainer = pl.Trainer(gpus=1, max_epochs=200, logger=logger)\n",
    "model = MLPLightningModule(hidden_size=1000, output_size=10, optimizer_name=optimizer_name)\n",
    "trainer.fit(model)"
   ]
  },
  {
   "cell_type": "markdown",
   "id": "00afc80c",
   "metadata": {},
   "source": [
    "### Adadelta"
   ]
  },
  {
   "cell_type": "code",
   "execution_count": 6,
   "id": "accbc104",
   "metadata": {},
   "outputs": [
    {
     "data": {
      "text/html": [
       "Finishing last run (ID:1klv9acs) before initializing another..."
      ],
      "text/plain": [
       "<IPython.core.display.HTML object>"
      ]
     },
     "metadata": {},
     "output_type": "display_data"
    },
    {
     "name": "stdout",
     "output_type": "stream",
     "text": [
      "\n"
     ]
    },
    {
     "data": {
      "text/html": [
       "Waiting for W&B process to finish... <strong style=\"color:green\">(success).</strong>"
      ],
      "text/plain": [
       "<IPython.core.display.HTML object>"
      ]
     },
     "metadata": {},
     "output_type": "display_data"
    },
    {
     "data": {
      "application/vnd.jupyter.widget-view+json": {
       "model_id": "4156cb4106284f6b9988a686b579a309",
       "version_major": 2,
       "version_minor": 0
      },
      "text/plain": [
       "VBox(children=(Label(value='0.001 MB of 0.001 MB uploaded (0.000 MB deduped)\\r'), FloatProgress(value=1.0, max…"
      ]
     },
     "metadata": {},
     "output_type": "display_data"
    },
    {
     "data": {
      "text/html": [
       "<style>\n",
       "    table.wandb td:nth-child(1) { padding: 0 10px; text-align: right }\n",
       "    .wandb-row { display: flex; flex-direction: row; flex-wrap: wrap; width: 100% }\n",
       "    .wandb-col { display: flex; flex-direction: column; flex-basis: 100%; flex: 1; padding: 10px; }\n",
       "    </style>\n",
       "<div class=\"wandb-row\"><div class=\"wandb-col\"><h3>Run history:</h3><br/><table class=\"wandb\"><tr><td>epoch</td><td>▁▁▁▂▂▂▂▂▂▃▃▃▃▃▄▄▄▄▄▄▅▅▅▅▅▅▆▆▆▆▆▇▇▇▇▇▇███</td></tr><tr><td>train_loss_epoch</td><td>▁▅▂▂▁▂▄▂▁▂▂▂▃▃▂▅▂▃▂▁▂▂▂▃▂▂▃▂▃▂▂▂▃█▂▃▂▂▂▄</td></tr><tr><td>train_loss_step</td><td>▁▂█▁▂▁▁▁▆▂▁▁▁▁▂▂▃▂▃▁▁▂▂▁▁▃▁▂▁▄▂▁▁█▁▂▁▅▂▂</td></tr><tr><td>trainer/global_step</td><td>▁▁▁▂▂▂▂▂▂▃▃▃▃▃▄▄▄▄▄▄▅▅▅▅▅▅▆▆▆▆▆▇▇▇▇▇▇███</td></tr></table><br/></div><div class=\"wandb-col\"><h3>Run summary:</h3><br/><table class=\"wandb\"><tr><td>epoch</td><td>200</td></tr><tr><td>train_loss_epoch</td><td>4.10967</td></tr><tr><td>train_loss_step</td><td>2.14456</td></tr><tr><td>trainer/global_step</td><td>78199</td></tr></table><br/></div></div>"
      ],
      "text/plain": [
       "<IPython.core.display.HTML object>"
      ]
     },
     "metadata": {},
     "output_type": "display_data"
    },
    {
     "data": {
      "text/html": [
       "Synced <strong style=\"color:#cdcd00\">sandy-lion-31</strong>: <a href=\"https://wandb.ai/xiang-pan/NYU_DL_Sys-HW3/runs/1klv9acs\" target=\"_blank\">https://wandb.ai/xiang-pan/NYU_DL_Sys-HW3/runs/1klv9acs</a><br/>Synced 5 W&B file(s), 0 media file(s), 0 artifact file(s) and 0 other file(s)"
      ],
      "text/plain": [
       "<IPython.core.display.HTML object>"
      ]
     },
     "metadata": {},
     "output_type": "display_data"
    },
    {
     "data": {
      "text/html": [
       "Find logs at: <code>./wandb/run-20220326_162049-1klv9acs/logs</code>"
      ],
      "text/plain": [
       "<IPython.core.display.HTML object>"
      ]
     },
     "metadata": {},
     "output_type": "display_data"
    },
    {
     "data": {
      "text/html": [
       "Successfully finished last run (ID:1klv9acs). Initializing new run:<br/>"
      ],
      "text/plain": [
       "<IPython.core.display.HTML object>"
      ]
     },
     "metadata": {},
     "output_type": "display_data"
    },
    {
     "data": {
      "text/html": [
       "Tracking run with wandb version 0.12.11"
      ],
      "text/plain": [
       "<IPython.core.display.HTML object>"
      ]
     },
     "metadata": {},
     "output_type": "display_data"
    },
    {
     "data": {
      "text/html": [
       "Run data is saved locally in <code>/home/xiangpan/Labs/NYU_DL_Sys/HW3/wandb/run-20220326_162913-19z7xfa2</code>"
      ],
      "text/plain": [
       "<IPython.core.display.HTML object>"
      ]
     },
     "metadata": {},
     "output_type": "display_data"
    },
    {
     "data": {
      "text/html": [
       "Syncing run <strong><a href=\"https://wandb.ai/xiang-pan/NYU_DL_Sys-HW3/runs/19z7xfa2\" target=\"_blank\">silvery-river-32</a></strong> to <a href=\"https://wandb.ai/xiang-pan/NYU_DL_Sys-HW3\" target=\"_blank\">Weights & Biases</a> (<a href=\"https://wandb.me/run\" target=\"_blank\">docs</a>)<br/>"
      ],
      "text/plain": [
       "<IPython.core.display.HTML object>"
      ]
     },
     "metadata": {},
     "output_type": "display_data"
    },
    {
     "name": "stderr",
     "output_type": "stream",
     "text": [
      "/home/xiangpan/.conda/envs/39/lib/python3.9/site-packages/IPython/core/display.py:724: UserWarning: Consider using IPython.display.IFrame instead\n",
      "  warnings.warn(\"Consider using IPython.display.IFrame instead\")\n"
     ]
    },
    {
     "data": {
      "text/html": [
       "<iframe src=\"https://wandb.ai/xiang-pan/NYU_DL_Sys-HW3/runs/19z7xfa2?jupyter=true\" style=\"border:none;width:100%;height:720px;\"></iframe>"
      ],
      "text/plain": [
       "<IPython.core.display.HTML object>"
      ]
     },
     "metadata": {},
     "output_type": "display_data"
    },
    {
     "name": "stderr",
     "output_type": "stream",
     "text": [
      "GPU available: True, used: True\n",
      "TPU available: False, using: 0 TPU cores\n",
      "IPU available: False, using: 0 IPUs\n",
      "/home/xiangpan/.conda/envs/39/lib/python3.9/site-packages/pytorch_lightning/trainer/configuration_validator.py:126: UserWarning: You defined a `validation_step` but have no `val_dataloader`. Skipping val loop.\n",
      "  rank_zero_warn(\"You defined a `validation_step` but have no `val_dataloader`. Skipping val loop.\")\n",
      "LOCAL_RANK: 0 - CUDA_VISIBLE_DEVICES: [0]\n",
      "\n",
      "  | Name    | Type             | Params\n",
      "---------------------------------------------\n",
      "0 | model   | MLP              | 3.1 M \n",
      "1 | loss_fn | CrossEntropyLoss | 0     \n",
      "---------------------------------------------\n",
      "3.1 M     Trainable params\n",
      "0         Non-trainable params\n",
      "3.1 M     Total params\n",
      "12.332    Total estimated model params size (MB)\n"
     ]
    },
    {
     "name": "stdout",
     "output_type": "stream",
     "text": [
      "Adadelta False\n",
      "Files already downloaded and verified\n"
     ]
    },
    {
     "data": {
      "application/vnd.jupyter.widget-view+json": {
       "model_id": "61befa4090c2470f9564dd84f3113e27",
       "version_major": 2,
       "version_minor": 0
      },
      "text/plain": [
       "Training: 0it [00:00, ?it/s]"
      ]
     },
     "metadata": {},
     "output_type": "display_data"
    },
    {
     "name": "stderr",
     "output_type": "stream",
     "text": [
      "/home/xiangpan/.conda/envs/39/lib/python3.9/site-packages/pytorch_lightning/loggers/wandb.py:341: UserWarning: There is a wandb run already in progress and newly created instances of `WandbLogger` will reuse this run. If this is not desired, call `wandb.finish()` before instantiating `WandbLogger`.\n",
      "  rank_zero_warn(\n"
     ]
    }
   ],
   "source": [
    "run = wandb.init(group='1.2')\n",
    "run.display(height=720)\n",
    "optimizer_name = \"Adadelta\"\n",
    "wandb.run.name = f\"{optimizer_name}_cifar10\"\n",
    "logger = WandbLogger(project='HW3_1', save_dir=\"./outputs\", name=optimizer_name)\n",
    "trainer = pl.Trainer(gpus=1, max_epochs=200, logger=logger)\n",
    "model = MLPLightningModule(hidden_size=1000, output_size=10, optimizer_name=optimizer_name)\n",
    "trainer.fit(model)"
   ]
  },
  {
   "cell_type": "markdown",
   "id": "5ab11b3b",
   "metadata": {},
   "source": [
    "### Adam"
   ]
  },
  {
   "cell_type": "code",
   "execution_count": null,
   "id": "97b3226b",
   "metadata": {},
   "outputs": [],
   "source": [
    "run = wandb.init(group='1.2')\n",
    "run.display(height=720)\n",
    "optimizer_name = \"Adam\"\n",
    "wandb.run.name = f\"{optimizer_name}_cifar10\"\n",
    "logger = WandbLogger(project='HW3_1', save_dir=\"./outputs\", name=optimizer_name)\n",
    "trainer = pl.Trainer(gpus=1, max_epochs=200, logger=logger)\n",
    "model = MLPLightningModule(hidden_size=1000, output_size=10, optimizer_name=optimizer_name)\n",
    "trainer.fit(model)"
   ]
  },
  {
   "cell_type": "markdown",
   "id": "26d46f8b",
   "metadata": {},
   "source": [
    "### Plot"
   ]
  },
  {
   "cell_type": "code",
   "execution_count": 13,
   "id": "debc05c8",
   "metadata": {},
   "outputs": [
    {
     "data": {
      "text/html": [
       "<div>\n",
       "<style scoped>\n",
       "    .dataframe tbody tr th:only-of-type {\n",
       "        vertical-align: middle;\n",
       "    }\n",
       "\n",
       "    .dataframe tbody tr th {\n",
       "        vertical-align: top;\n",
       "    }\n",
       "\n",
       "    .dataframe thead th {\n",
       "        text-align: right;\n",
       "    }\n",
       "</style>\n",
       "<table border=\"1\" class=\"dataframe\">\n",
       "  <thead>\n",
       "    <tr style=\"text-align: right;\">\n",
       "      <th></th>\n",
       "      <th>epoch</th>\n",
       "      <th>RMSprop_cifar10 - _step</th>\n",
       "      <th>RMSprop_cifar10 - _step__MIN</th>\n",
       "      <th>RMSprop_cifar10 - _step__MAX</th>\n",
       "      <th>RMSprop_cifar10 - train_loss_epoch</th>\n",
       "      <th>RMSprop_cifar10 - train_loss_epoch__MIN</th>\n",
       "      <th>RMSprop_cifar10 - train_loss_epoch__MAX</th>\n",
       "      <th>RMSprop+Nesterov_cifar10 - _step</th>\n",
       "      <th>RMSprop+Nesterov_cifar10 - _step__MIN</th>\n",
       "      <th>RMSprop+Nesterov_cifar10 - _step__MAX</th>\n",
       "      <th>...</th>\n",
       "      <th>Adagrad_cifar10 - _step__MAX</th>\n",
       "      <th>Adagrad_cifar10 - train_loss_epoch</th>\n",
       "      <th>Adagrad_cifar10 - train_loss_epoch__MIN</th>\n",
       "      <th>Adagrad_cifar10 - train_loss_epoch__MAX</th>\n",
       "      <th>Adadelta_cifar10 - _step</th>\n",
       "      <th>Adadelta_cifar10 - _step__MIN</th>\n",
       "      <th>Adadelta_cifar10 - _step__MAX</th>\n",
       "      <th>Adadelta_cifar10 - train_loss_epoch</th>\n",
       "      <th>Adadelta_cifar10 - train_loss_epoch__MIN</th>\n",
       "      <th>Adadelta_cifar10 - train_loss_epoch__MAX</th>\n",
       "    </tr>\n",
       "  </thead>\n",
       "  <tbody>\n",
       "    <tr>\n",
       "      <th>0</th>\n",
       "      <td>1</td>\n",
       "      <td>7</td>\n",
       "      <td>7</td>\n",
       "      <td>7</td>\n",
       "      <td>2.663809</td>\n",
       "      <td>2.663809</td>\n",
       "      <td>2.663809</td>\n",
       "      <td>7</td>\n",
       "      <td>7</td>\n",
       "      <td>7</td>\n",
       "      <td>...</td>\n",
       "      <td>7</td>\n",
       "      <td>1.961369</td>\n",
       "      <td>1.961369</td>\n",
       "      <td>1.961369</td>\n",
       "      <td>7</td>\n",
       "      <td>7</td>\n",
       "      <td>7</td>\n",
       "      <td>2.268250</td>\n",
       "      <td>2.268250</td>\n",
       "      <td>2.268250</td>\n",
       "    </tr>\n",
       "    <tr>\n",
       "      <th>1</th>\n",
       "      <td>2</td>\n",
       "      <td>16</td>\n",
       "      <td>16</td>\n",
       "      <td>16</td>\n",
       "      <td>1.774574</td>\n",
       "      <td>1.774574</td>\n",
       "      <td>1.774574</td>\n",
       "      <td>16</td>\n",
       "      <td>16</td>\n",
       "      <td>16</td>\n",
       "      <td>...</td>\n",
       "      <td>16</td>\n",
       "      <td>1.823225</td>\n",
       "      <td>1.823225</td>\n",
       "      <td>1.823225</td>\n",
       "      <td>16</td>\n",
       "      <td>16</td>\n",
       "      <td>16</td>\n",
       "      <td>2.214725</td>\n",
       "      <td>2.214725</td>\n",
       "      <td>2.214725</td>\n",
       "    </tr>\n",
       "    <tr>\n",
       "      <th>2</th>\n",
       "      <td>3</td>\n",
       "      <td>25</td>\n",
       "      <td>25</td>\n",
       "      <td>25</td>\n",
       "      <td>1.688607</td>\n",
       "      <td>1.688607</td>\n",
       "      <td>1.688607</td>\n",
       "      <td>25</td>\n",
       "      <td>25</td>\n",
       "      <td>25</td>\n",
       "      <td>...</td>\n",
       "      <td>25</td>\n",
       "      <td>1.772303</td>\n",
       "      <td>1.772303</td>\n",
       "      <td>1.772303</td>\n",
       "      <td>25</td>\n",
       "      <td>25</td>\n",
       "      <td>25</td>\n",
       "      <td>2.173219</td>\n",
       "      <td>2.173219</td>\n",
       "      <td>2.173219</td>\n",
       "    </tr>\n",
       "    <tr>\n",
       "      <th>3</th>\n",
       "      <td>4</td>\n",
       "      <td>34</td>\n",
       "      <td>34</td>\n",
       "      <td>34</td>\n",
       "      <td>1.636065</td>\n",
       "      <td>1.636065</td>\n",
       "      <td>1.636065</td>\n",
       "      <td>34</td>\n",
       "      <td>34</td>\n",
       "      <td>34</td>\n",
       "      <td>...</td>\n",
       "      <td>34</td>\n",
       "      <td>1.737732</td>\n",
       "      <td>1.737732</td>\n",
       "      <td>1.737732</td>\n",
       "      <td>34</td>\n",
       "      <td>34</td>\n",
       "      <td>34</td>\n",
       "      <td>2.138775</td>\n",
       "      <td>2.138775</td>\n",
       "      <td>2.138775</td>\n",
       "    </tr>\n",
       "    <tr>\n",
       "      <th>4</th>\n",
       "      <td>5</td>\n",
       "      <td>43</td>\n",
       "      <td>43</td>\n",
       "      <td>43</td>\n",
       "      <td>1.593487</td>\n",
       "      <td>1.593487</td>\n",
       "      <td>1.593487</td>\n",
       "      <td>43</td>\n",
       "      <td>43</td>\n",
       "      <td>43</td>\n",
       "      <td>...</td>\n",
       "      <td>43</td>\n",
       "      <td>1.710066</td>\n",
       "      <td>1.710066</td>\n",
       "      <td>1.710066</td>\n",
       "      <td>43</td>\n",
       "      <td>43</td>\n",
       "      <td>43</td>\n",
       "      <td>2.109075</td>\n",
       "      <td>2.109075</td>\n",
       "      <td>2.109075</td>\n",
       "    </tr>\n",
       "    <tr>\n",
       "      <th>...</th>\n",
       "      <td>...</td>\n",
       "      <td>...</td>\n",
       "      <td>...</td>\n",
       "      <td>...</td>\n",
       "      <td>...</td>\n",
       "      <td>...</td>\n",
       "      <td>...</td>\n",
       "      <td>...</td>\n",
       "      <td>...</td>\n",
       "      <td>...</td>\n",
       "      <td>...</td>\n",
       "      <td>...</td>\n",
       "      <td>...</td>\n",
       "      <td>...</td>\n",
       "      <td>...</td>\n",
       "      <td>...</td>\n",
       "      <td>...</td>\n",
       "      <td>...</td>\n",
       "      <td>...</td>\n",
       "      <td>...</td>\n",
       "      <td>...</td>\n",
       "    </tr>\n",
       "    <tr>\n",
       "      <th>195</th>\n",
       "      <td>196</td>\n",
       "      <td>1727</td>\n",
       "      <td>1727</td>\n",
       "      <td>1727</td>\n",
       "      <td>0.792143</td>\n",
       "      <td>0.792143</td>\n",
       "      <td>0.792143</td>\n",
       "      <td>1727</td>\n",
       "      <td>1727</td>\n",
       "      <td>1727</td>\n",
       "      <td>...</td>\n",
       "      <td>1727</td>\n",
       "      <td>1.220296</td>\n",
       "      <td>1.220296</td>\n",
       "      <td>1.220296</td>\n",
       "      <td>1727</td>\n",
       "      <td>1727</td>\n",
       "      <td>1727</td>\n",
       "      <td>1.572403</td>\n",
       "      <td>1.572403</td>\n",
       "      <td>1.572403</td>\n",
       "    </tr>\n",
       "    <tr>\n",
       "      <th>196</th>\n",
       "      <td>197</td>\n",
       "      <td>1736</td>\n",
       "      <td>1736</td>\n",
       "      <td>1736</td>\n",
       "      <td>0.797538</td>\n",
       "      <td>0.797538</td>\n",
       "      <td>0.797538</td>\n",
       "      <td>1736</td>\n",
       "      <td>1736</td>\n",
       "      <td>1736</td>\n",
       "      <td>...</td>\n",
       "      <td>1736</td>\n",
       "      <td>1.219495</td>\n",
       "      <td>1.219495</td>\n",
       "      <td>1.219495</td>\n",
       "      <td>1736</td>\n",
       "      <td>1736</td>\n",
       "      <td>1736</td>\n",
       "      <td>1.571365</td>\n",
       "      <td>1.571365</td>\n",
       "      <td>1.571365</td>\n",
       "    </tr>\n",
       "    <tr>\n",
       "      <th>197</th>\n",
       "      <td>198</td>\n",
       "      <td>1745</td>\n",
       "      <td>1745</td>\n",
       "      <td>1745</td>\n",
       "      <td>0.793693</td>\n",
       "      <td>0.793693</td>\n",
       "      <td>0.793693</td>\n",
       "      <td>1745</td>\n",
       "      <td>1745</td>\n",
       "      <td>1745</td>\n",
       "      <td>...</td>\n",
       "      <td>1745</td>\n",
       "      <td>1.218581</td>\n",
       "      <td>1.218581</td>\n",
       "      <td>1.218581</td>\n",
       "      <td>1745</td>\n",
       "      <td>1745</td>\n",
       "      <td>1745</td>\n",
       "      <td>1.570372</td>\n",
       "      <td>1.570372</td>\n",
       "      <td>1.570372</td>\n",
       "    </tr>\n",
       "    <tr>\n",
       "      <th>198</th>\n",
       "      <td>199</td>\n",
       "      <td>1754</td>\n",
       "      <td>1754</td>\n",
       "      <td>1754</td>\n",
       "      <td>0.793397</td>\n",
       "      <td>0.793397</td>\n",
       "      <td>0.793397</td>\n",
       "      <td>1754</td>\n",
       "      <td>1754</td>\n",
       "      <td>1754</td>\n",
       "      <td>...</td>\n",
       "      <td>1754</td>\n",
       "      <td>1.217557</td>\n",
       "      <td>1.217557</td>\n",
       "      <td>1.217557</td>\n",
       "      <td>1754</td>\n",
       "      <td>1754</td>\n",
       "      <td>1754</td>\n",
       "      <td>1.569414</td>\n",
       "      <td>1.569414</td>\n",
       "      <td>1.569414</td>\n",
       "    </tr>\n",
       "    <tr>\n",
       "      <th>199</th>\n",
       "      <td>200</td>\n",
       "      <td>1763</td>\n",
       "      <td>1763</td>\n",
       "      <td>1763</td>\n",
       "      <td>0.783713</td>\n",
       "      <td>0.783713</td>\n",
       "      <td>0.783713</td>\n",
       "      <td>1763</td>\n",
       "      <td>1763</td>\n",
       "      <td>1763</td>\n",
       "      <td>...</td>\n",
       "      <td>1763</td>\n",
       "      <td>1.216772</td>\n",
       "      <td>1.216772</td>\n",
       "      <td>1.216772</td>\n",
       "      <td>1763</td>\n",
       "      <td>1763</td>\n",
       "      <td>1763</td>\n",
       "      <td>1.568389</td>\n",
       "      <td>1.568389</td>\n",
       "      <td>1.568389</td>\n",
       "    </tr>\n",
       "  </tbody>\n",
       "</table>\n",
       "<p>200 rows × 31 columns</p>\n",
       "</div>"
      ],
      "text/plain": [
       "     epoch  RMSprop_cifar10 - _step  RMSprop_cifar10 - _step__MIN  \\\n",
       "0        1                        7                             7   \n",
       "1        2                       16                            16   \n",
       "2        3                       25                            25   \n",
       "3        4                       34                            34   \n",
       "4        5                       43                            43   \n",
       "..     ...                      ...                           ...   \n",
       "195    196                     1727                          1727   \n",
       "196    197                     1736                          1736   \n",
       "197    198                     1745                          1745   \n",
       "198    199                     1754                          1754   \n",
       "199    200                     1763                          1763   \n",
       "\n",
       "     RMSprop_cifar10 - _step__MAX  RMSprop_cifar10 - train_loss_epoch  \\\n",
       "0                               7                            2.663809   \n",
       "1                              16                            1.774574   \n",
       "2                              25                            1.688607   \n",
       "3                              34                            1.636065   \n",
       "4                              43                            1.593487   \n",
       "..                            ...                                 ...   \n",
       "195                          1727                            0.792143   \n",
       "196                          1736                            0.797538   \n",
       "197                          1745                            0.793693   \n",
       "198                          1754                            0.793397   \n",
       "199                          1763                            0.783713   \n",
       "\n",
       "     RMSprop_cifar10 - train_loss_epoch__MIN  \\\n",
       "0                                   2.663809   \n",
       "1                                   1.774574   \n",
       "2                                   1.688607   \n",
       "3                                   1.636065   \n",
       "4                                   1.593487   \n",
       "..                                       ...   \n",
       "195                                 0.792143   \n",
       "196                                 0.797538   \n",
       "197                                 0.793693   \n",
       "198                                 0.793397   \n",
       "199                                 0.783713   \n",
       "\n",
       "     RMSprop_cifar10 - train_loss_epoch__MAX  \\\n",
       "0                                   2.663809   \n",
       "1                                   1.774574   \n",
       "2                                   1.688607   \n",
       "3                                   1.636065   \n",
       "4                                   1.593487   \n",
       "..                                       ...   \n",
       "195                                 0.792143   \n",
       "196                                 0.797538   \n",
       "197                                 0.793693   \n",
       "198                                 0.793397   \n",
       "199                                 0.783713   \n",
       "\n",
       "     RMSprop+Nesterov_cifar10 - _step  RMSprop+Nesterov_cifar10 - _step__MIN  \\\n",
       "0                                   7                                      7   \n",
       "1                                  16                                     16   \n",
       "2                                  25                                     25   \n",
       "3                                  34                                     34   \n",
       "4                                  43                                     43   \n",
       "..                                ...                                    ...   \n",
       "195                              1727                                   1727   \n",
       "196                              1736                                   1736   \n",
       "197                              1745                                   1745   \n",
       "198                              1754                                   1754   \n",
       "199                              1763                                   1763   \n",
       "\n",
       "     RMSprop+Nesterov_cifar10 - _step__MAX  ...  Adagrad_cifar10 - _step__MAX  \\\n",
       "0                                        7  ...                             7   \n",
       "1                                       16  ...                            16   \n",
       "2                                       25  ...                            25   \n",
       "3                                       34  ...                            34   \n",
       "4                                       43  ...                            43   \n",
       "..                                     ...  ...                           ...   \n",
       "195                                   1727  ...                          1727   \n",
       "196                                   1736  ...                          1736   \n",
       "197                                   1745  ...                          1745   \n",
       "198                                   1754  ...                          1754   \n",
       "199                                   1763  ...                          1763   \n",
       "\n",
       "     Adagrad_cifar10 - train_loss_epoch  \\\n",
       "0                              1.961369   \n",
       "1                              1.823225   \n",
       "2                              1.772303   \n",
       "3                              1.737732   \n",
       "4                              1.710066   \n",
       "..                                  ...   \n",
       "195                            1.220296   \n",
       "196                            1.219495   \n",
       "197                            1.218581   \n",
       "198                            1.217557   \n",
       "199                            1.216772   \n",
       "\n",
       "     Adagrad_cifar10 - train_loss_epoch__MIN  \\\n",
       "0                                   1.961369   \n",
       "1                                   1.823225   \n",
       "2                                   1.772303   \n",
       "3                                   1.737732   \n",
       "4                                   1.710066   \n",
       "..                                       ...   \n",
       "195                                 1.220296   \n",
       "196                                 1.219495   \n",
       "197                                 1.218581   \n",
       "198                                 1.217557   \n",
       "199                                 1.216772   \n",
       "\n",
       "     Adagrad_cifar10 - train_loss_epoch__MAX  Adadelta_cifar10 - _step  \\\n",
       "0                                   1.961369                         7   \n",
       "1                                   1.823225                        16   \n",
       "2                                   1.772303                        25   \n",
       "3                                   1.737732                        34   \n",
       "4                                   1.710066                        43   \n",
       "..                                       ...                       ...   \n",
       "195                                 1.220296                      1727   \n",
       "196                                 1.219495                      1736   \n",
       "197                                 1.218581                      1745   \n",
       "198                                 1.217557                      1754   \n",
       "199                                 1.216772                      1763   \n",
       "\n",
       "     Adadelta_cifar10 - _step__MIN  Adadelta_cifar10 - _step__MAX  \\\n",
       "0                                7                              7   \n",
       "1                               16                             16   \n",
       "2                               25                             25   \n",
       "3                               34                             34   \n",
       "4                               43                             43   \n",
       "..                             ...                            ...   \n",
       "195                           1727                           1727   \n",
       "196                           1736                           1736   \n",
       "197                           1745                           1745   \n",
       "198                           1754                           1754   \n",
       "199                           1763                           1763   \n",
       "\n",
       "     Adadelta_cifar10 - train_loss_epoch  \\\n",
       "0                               2.268250   \n",
       "1                               2.214725   \n",
       "2                               2.173219   \n",
       "3                               2.138775   \n",
       "4                               2.109075   \n",
       "..                                   ...   \n",
       "195                             1.572403   \n",
       "196                             1.571365   \n",
       "197                             1.570372   \n",
       "198                             1.569414   \n",
       "199                             1.568389   \n",
       "\n",
       "     Adadelta_cifar10 - train_loss_epoch__MIN  \\\n",
       "0                                    2.268250   \n",
       "1                                    2.214725   \n",
       "2                                    2.173219   \n",
       "3                                    2.138775   \n",
       "4                                    2.109075   \n",
       "..                                        ...   \n",
       "195                                  1.572403   \n",
       "196                                  1.571365   \n",
       "197                                  1.570372   \n",
       "198                                  1.569414   \n",
       "199                                  1.568389   \n",
       "\n",
       "     Adadelta_cifar10 - train_loss_epoch__MAX  \n",
       "0                                    2.268250  \n",
       "1                                    2.214725  \n",
       "2                                    2.173219  \n",
       "3                                    2.138775  \n",
       "4                                    2.109075  \n",
       "..                                        ...  \n",
       "195                                  1.572403  \n",
       "196                                  1.571365  \n",
       "197                                  1.570372  \n",
       "198                                  1.569414  \n",
       "199                                  1.568389  \n",
       "\n",
       "[200 rows x 31 columns]"
      ]
     },
     "execution_count": 13,
     "metadata": {},
     "output_type": "execute_result"
    }
   ],
   "source": [
    "import pandas as pd\n",
    "df = pd.read_csv(\"./problem1/1_2.csv\")\n",
    "df"
   ]
  },
  {
   "cell_type": "code",
   "execution_count": 23,
   "id": "18317ce5",
   "metadata": {},
   "outputs": [],
   "source": [
    "ori_optimize_name_list = [\"Adagrad\", \"RMSprop\", \"RMSprop+Nesterov\", \"Adadelta\", \"Adam\"]\n",
    "post_fix = \"_cifar10 - train_loss_epoch\"\n",
    "optimize_name_list = [x + post_fix for x in ori_optimize_name_list]\n",
    "data = df[optimize_name_list]"
   ]
  },
  {
   "cell_type": "code",
   "execution_count": 30,
   "id": "c9ec6c73",
   "metadata": {},
   "outputs": [
    {
     "data": {
      "text/plain": [
       "Text(0, 0.5, 'train_loss')"
      ]
     },
     "execution_count": 30,
     "metadata": {},
     "output_type": "execute_result"
    },
    {
     "data": {
      "image/png": "[encoded data removed]",
      "text/plain": [
       "<Figure size 432x288 with 1 Axes>"
      ]
     },
     "metadata": {
      "needs_background": "light"
     },
     "output_type": "display_data"
    }
   ],
   "source": [
    "# plot data\n",
    "import matplotlib.pyplot as plt\n",
    "data = df[optimize_name_list]\n",
    "plt.plot(data)\n",
    "plt.legend(ori_optimize_name_list)\n",
    "plt.xlabel(\"epoch\")\n",
    "plt.ylabel(\"train_loss\")"
   ]
  },
  {
   "cell_type": "code",
   "execution_count": 31,
   "id": "cdbdfd36",
   "metadata": {},
   "outputs": [
    {
     "data": {
      "text/plain": [
       "Text(0, 0.5, 'train_loss')"
      ]
     },
     "execution_count": 31,
     "metadata": {},
     "output_type": "execute_result"
    },
    {
     "data": {
      "image/png": "[encoded data removed]",
      "text/plain": [
       "<Figure size 432x288 with 1 Axes>"
      ]
     },
     "metadata": {
      "needs_background": "light"
     },
     "output_type": "display_data"
    }
   ],
   "source": [
    "# plot data\n",
    "import matplotlib.pyplot as plt\n",
    "data = df[optimize_name_list]\n",
    "plt.plot(data)\n",
    "plt.legend(ori_optimize_name_list)\n",
    "plt.ylim(0, 5)\n",
    "plt.xlabel(\"epoch\")\n",
    "plt.ylabel(\"train_loss\")"
   ]
  },
  {
   "cell_type": "markdown",
   "id": "338a870a",
   "metadata": {},
   "source": [
    "RMSprop+Nesterov performs best."
   ]
  },
  {
   "cell_type": "markdown",
   "id": "3835a40c",
   "metadata": {},
   "source": [
    "## 3\n",
    "Add dropout (probability 0.2 for input layer and 0.5 for hidden layers) and train the neural network again using all the five methods for 200 epochs. Compare the training loss with that in part 2. Which method performs the best? For the five methods, compare their training time (to finish 200 epochs with dropout) to the training time in part 2 (to finish 200 epochs without dropout). (5)"
   ]
  },
  {
   "cell_type": "code",
   "execution_count": 1,
   "id": "1df9a59e",
   "metadata": {},
   "outputs": [
    {
     "data": {
      "text/html": [
       "<div>\n",
       "<style scoped>\n",
       "    .dataframe tbody tr th:only-of-type {\n",
       "        vertical-align: middle;\n",
       "    }\n",
       "\n",
       "    .dataframe tbody tr th {\n",
       "        vertical-align: top;\n",
       "    }\n",
       "\n",
       "    .dataframe thead th {\n",
       "        text-align: right;\n",
       "    }\n",
       "</style>\n",
       "<table border=\"1\" class=\"dataframe\">\n",
       "  <thead>\n",
       "    <tr style=\"text-align: right;\">\n",
       "      <th></th>\n",
       "      <th>epoch</th>\n",
       "      <th>Adagrad+Dropout - _step</th>\n",
       "      <th>Adagrad+Dropout - _step__MIN</th>\n",
       "      <th>Adagrad+Dropout - _step__MAX</th>\n",
       "      <th>Adagrad+Dropout - train_loss_epoch</th>\n",
       "      <th>Adagrad+Dropout - train_loss_epoch__MIN</th>\n",
       "      <th>Adagrad+Dropout - train_loss_epoch__MAX</th>\n",
       "      <th>RMSprop+Nesterov+Dropout - _step</th>\n",
       "      <th>RMSprop+Nesterov+Dropout - _step__MIN</th>\n",
       "      <th>RMSprop+Nesterov+Dropout - _step__MAX</th>\n",
       "      <th>...</th>\n",
       "      <th>Adam+Dropout - _step__MAX</th>\n",
       "      <th>Adam+Dropout - train_loss_epoch</th>\n",
       "      <th>Adam+Dropout - train_loss_epoch__MIN</th>\n",
       "      <th>Adam+Dropout - train_loss_epoch__MAX</th>\n",
       "      <th>RMSprop+Dropout - _step</th>\n",
       "      <th>RMSprop+Dropout - _step__MIN</th>\n",
       "      <th>RMSprop+Dropout - _step__MAX</th>\n",
       "      <th>RMSprop+Dropout - train_loss_epoch</th>\n",
       "      <th>RMSprop+Dropout - train_loss_epoch__MIN</th>\n",
       "      <th>RMSprop+Dropout - train_loss_epoch__MAX</th>\n",
       "    </tr>\n",
       "  </thead>\n",
       "  <tbody>\n",
       "    <tr>\n",
       "      <th>0</th>\n",
       "      <td>1</td>\n",
       "      <td>7</td>\n",
       "      <td>7</td>\n",
       "      <td>7</td>\n",
       "      <td>2.159661</td>\n",
       "      <td>2.159661</td>\n",
       "      <td>2.159661</td>\n",
       "      <td>7</td>\n",
       "      <td>7</td>\n",
       "      <td>7</td>\n",
       "      <td>...</td>\n",
       "      <td>7</td>\n",
       "      <td>2.172784</td>\n",
       "      <td>2.172784</td>\n",
       "      <td>2.172784</td>\n",
       "      <td>7</td>\n",
       "      <td>7</td>\n",
       "      <td>7</td>\n",
       "      <td>3.009720</td>\n",
       "      <td>3.009720</td>\n",
       "      <td>3.009720</td>\n",
       "    </tr>\n",
       "    <tr>\n",
       "      <th>1</th>\n",
       "      <td>2</td>\n",
       "      <td>16</td>\n",
       "      <td>16</td>\n",
       "      <td>16</td>\n",
       "      <td>2.073707</td>\n",
       "      <td>2.073707</td>\n",
       "      <td>2.073707</td>\n",
       "      <td>16</td>\n",
       "      <td>16</td>\n",
       "      <td>16</td>\n",
       "      <td>...</td>\n",
       "      <td>16</td>\n",
       "      <td>2.064521</td>\n",
       "      <td>2.064521</td>\n",
       "      <td>2.064521</td>\n",
       "      <td>16</td>\n",
       "      <td>16</td>\n",
       "      <td>16</td>\n",
       "      <td>2.081418</td>\n",
       "      <td>2.081418</td>\n",
       "      <td>2.081418</td>\n",
       "    </tr>\n",
       "    <tr>\n",
       "      <th>2</th>\n",
       "      <td>3</td>\n",
       "      <td>25</td>\n",
       "      <td>25</td>\n",
       "      <td>25</td>\n",
       "      <td>2.046373</td>\n",
       "      <td>2.046373</td>\n",
       "      <td>2.046373</td>\n",
       "      <td>25</td>\n",
       "      <td>25</td>\n",
       "      <td>25</td>\n",
       "      <td>...</td>\n",
       "      <td>25</td>\n",
       "      <td>2.042034</td>\n",
       "      <td>2.042034</td>\n",
       "      <td>2.042034</td>\n",
       "      <td>25</td>\n",
       "      <td>25</td>\n",
       "      <td>25</td>\n",
       "      <td>2.052173</td>\n",
       "      <td>2.052173</td>\n",
       "      <td>2.052173</td>\n",
       "    </tr>\n",
       "    <tr>\n",
       "      <th>3</th>\n",
       "      <td>4</td>\n",
       "      <td>34</td>\n",
       "      <td>34</td>\n",
       "      <td>34</td>\n",
       "      <td>2.029272</td>\n",
       "      <td>2.029272</td>\n",
       "      <td>2.029272</td>\n",
       "      <td>34</td>\n",
       "      <td>34</td>\n",
       "      <td>34</td>\n",
       "      <td>...</td>\n",
       "      <td>34</td>\n",
       "      <td>2.027263</td>\n",
       "      <td>2.027263</td>\n",
       "      <td>2.027263</td>\n",
       "      <td>34</td>\n",
       "      <td>34</td>\n",
       "      <td>34</td>\n",
       "      <td>2.031971</td>\n",
       "      <td>2.031971</td>\n",
       "      <td>2.031971</td>\n",
       "    </tr>\n",
       "    <tr>\n",
       "      <th>4</th>\n",
       "      <td>5</td>\n",
       "      <td>43</td>\n",
       "      <td>43</td>\n",
       "      <td>43</td>\n",
       "      <td>2.011730</td>\n",
       "      <td>2.011730</td>\n",
       "      <td>2.011730</td>\n",
       "      <td>43</td>\n",
       "      <td>43</td>\n",
       "      <td>43</td>\n",
       "      <td>...</td>\n",
       "      <td>43</td>\n",
       "      <td>2.018904</td>\n",
       "      <td>2.018904</td>\n",
       "      <td>2.018904</td>\n",
       "      <td>43</td>\n",
       "      <td>43</td>\n",
       "      <td>43</td>\n",
       "      <td>2.014198</td>\n",
       "      <td>2.014198</td>\n",
       "      <td>2.014198</td>\n",
       "    </tr>\n",
       "    <tr>\n",
       "      <th>...</th>\n",
       "      <td>...</td>\n",
       "      <td>...</td>\n",
       "      <td>...</td>\n",
       "      <td>...</td>\n",
       "      <td>...</td>\n",
       "      <td>...</td>\n",
       "      <td>...</td>\n",
       "      <td>...</td>\n",
       "      <td>...</td>\n",
       "      <td>...</td>\n",
       "      <td>...</td>\n",
       "      <td>...</td>\n",
       "      <td>...</td>\n",
       "      <td>...</td>\n",
       "      <td>...</td>\n",
       "      <td>...</td>\n",
       "      <td>...</td>\n",
       "      <td>...</td>\n",
       "      <td>...</td>\n",
       "      <td>...</td>\n",
       "      <td>...</td>\n",
       "    </tr>\n",
       "    <tr>\n",
       "      <th>195</th>\n",
       "      <td>196</td>\n",
       "      <td>1727</td>\n",
       "      <td>1727</td>\n",
       "      <td>1727</td>\n",
       "      <td>1.776351</td>\n",
       "      <td>1.776351</td>\n",
       "      <td>1.776351</td>\n",
       "      <td>1727</td>\n",
       "      <td>1727</td>\n",
       "      <td>1727</td>\n",
       "      <td>...</td>\n",
       "      <td>1727</td>\n",
       "      <td>1.816487</td>\n",
       "      <td>1.816487</td>\n",
       "      <td>1.816487</td>\n",
       "      <td>1727</td>\n",
       "      <td>1727</td>\n",
       "      <td>1727</td>\n",
       "      <td>1.763995</td>\n",
       "      <td>1.763995</td>\n",
       "      <td>1.763995</td>\n",
       "    </tr>\n",
       "    <tr>\n",
       "      <th>196</th>\n",
       "      <td>197</td>\n",
       "      <td>1736</td>\n",
       "      <td>1736</td>\n",
       "      <td>1736</td>\n",
       "      <td>1.775455</td>\n",
       "      <td>1.775455</td>\n",
       "      <td>1.775455</td>\n",
       "      <td>1736</td>\n",
       "      <td>1736</td>\n",
       "      <td>1736</td>\n",
       "      <td>...</td>\n",
       "      <td>1736</td>\n",
       "      <td>1.816880</td>\n",
       "      <td>1.816880</td>\n",
       "      <td>1.816880</td>\n",
       "      <td>1736</td>\n",
       "      <td>1736</td>\n",
       "      <td>1736</td>\n",
       "      <td>1.769017</td>\n",
       "      <td>1.769017</td>\n",
       "      <td>1.769017</td>\n",
       "    </tr>\n",
       "    <tr>\n",
       "      <th>197</th>\n",
       "      <td>198</td>\n",
       "      <td>1745</td>\n",
       "      <td>1745</td>\n",
       "      <td>1745</td>\n",
       "      <td>1.777960</td>\n",
       "      <td>1.777960</td>\n",
       "      <td>1.777960</td>\n",
       "      <td>1745</td>\n",
       "      <td>1745</td>\n",
       "      <td>1745</td>\n",
       "      <td>...</td>\n",
       "      <td>1745</td>\n",
       "      <td>1.811998</td>\n",
       "      <td>1.811998</td>\n",
       "      <td>1.811998</td>\n",
       "      <td>1745</td>\n",
       "      <td>1745</td>\n",
       "      <td>1745</td>\n",
       "      <td>1.773915</td>\n",
       "      <td>1.773915</td>\n",
       "      <td>1.773915</td>\n",
       "    </tr>\n",
       "    <tr>\n",
       "      <th>198</th>\n",
       "      <td>199</td>\n",
       "      <td>1754</td>\n",
       "      <td>1754</td>\n",
       "      <td>1754</td>\n",
       "      <td>1.773476</td>\n",
       "      <td>1.773476</td>\n",
       "      <td>1.773476</td>\n",
       "      <td>1754</td>\n",
       "      <td>1754</td>\n",
       "      <td>1754</td>\n",
       "      <td>...</td>\n",
       "      <td>1754</td>\n",
       "      <td>1.814392</td>\n",
       "      <td>1.814392</td>\n",
       "      <td>1.814392</td>\n",
       "      <td>1754</td>\n",
       "      <td>1754</td>\n",
       "      <td>1754</td>\n",
       "      <td>1.771836</td>\n",
       "      <td>1.771836</td>\n",
       "      <td>1.771836</td>\n",
       "    </tr>\n",
       "    <tr>\n",
       "      <th>199</th>\n",
       "      <td>200</td>\n",
       "      <td>1763</td>\n",
       "      <td>1763</td>\n",
       "      <td>1763</td>\n",
       "      <td>1.775750</td>\n",
       "      <td>1.775750</td>\n",
       "      <td>1.775750</td>\n",
       "      <td>1763</td>\n",
       "      <td>1763</td>\n",
       "      <td>1763</td>\n",
       "      <td>...</td>\n",
       "      <td>1763</td>\n",
       "      <td>1.823912</td>\n",
       "      <td>1.823912</td>\n",
       "      <td>1.823912</td>\n",
       "      <td>1763</td>\n",
       "      <td>1763</td>\n",
       "      <td>1763</td>\n",
       "      <td>1.765055</td>\n",
       "      <td>1.765055</td>\n",
       "      <td>1.765055</td>\n",
       "    </tr>\n",
       "  </tbody>\n",
       "</table>\n",
       "<p>200 rows × 31 columns</p>\n",
       "</div>"
      ],
      "text/plain": [
       "     epoch  Adagrad+Dropout - _step  Adagrad+Dropout - _step__MIN  \\\n",
       "0        1                        7                             7   \n",
       "1        2                       16                            16   \n",
       "2        3                       25                            25   \n",
       "3        4                       34                            34   \n",
       "4        5                       43                            43   \n",
       "..     ...                      ...                           ...   \n",
       "195    196                     1727                          1727   \n",
       "196    197                     1736                          1736   \n",
       "197    198                     1745                          1745   \n",
       "198    199                     1754                          1754   \n",
       "199    200                     1763                          1763   \n",
       "\n",
       "     Adagrad+Dropout - _step__MAX  Adagrad+Dropout - train_loss_epoch  \\\n",
       "0                               7                            2.159661   \n",
       "1                              16                            2.073707   \n",
       "2                              25                            2.046373   \n",
       "3                              34                            2.029272   \n",
       "4                              43                            2.011730   \n",
       "..                            ...                                 ...   \n",
       "195                          1727                            1.776351   \n",
       "196                          1736                            1.775455   \n",
       "197                          1745                            1.777960   \n",
       "198                          1754                            1.773476   \n",
       "199                          1763                            1.775750   \n",
       "\n",
       "     Adagrad+Dropout - train_loss_epoch__MIN  \\\n",
       "0                                   2.159661   \n",
       "1                                   2.073707   \n",
       "2                                   2.046373   \n",
       "3                                   2.029272   \n",
       "4                                   2.011730   \n",
       "..                                       ...   \n",
       "195                                 1.776351   \n",
       "196                                 1.775455   \n",
       "197                                 1.777960   \n",
       "198                                 1.773476   \n",
       "199                                 1.775750   \n",
       "\n",
       "     Adagrad+Dropout - train_loss_epoch__MAX  \\\n",
       "0                                   2.159661   \n",
       "1                                   2.073707   \n",
       "2                                   2.046373   \n",
       "3                                   2.029272   \n",
       "4                                   2.011730   \n",
       "..                                       ...   \n",
       "195                                 1.776351   \n",
       "196                                 1.775455   \n",
       "197                                 1.777960   \n",
       "198                                 1.773476   \n",
       "199                                 1.775750   \n",
       "\n",
       "     RMSprop+Nesterov+Dropout - _step  RMSprop+Nesterov+Dropout - _step__MIN  \\\n",
       "0                                   7                                      7   \n",
       "1                                  16                                     16   \n",
       "2                                  25                                     25   \n",
       "3                                  34                                     34   \n",
       "4                                  43                                     43   \n",
       "..                                ...                                    ...   \n",
       "195                              1727                                   1727   \n",
       "196                              1736                                   1736   \n",
       "197                              1745                                   1745   \n",
       "198                              1754                                   1754   \n",
       "199                              1763                                   1763   \n",
       "\n",
       "     RMSprop+Nesterov+Dropout - _step__MAX  ...  Adam+Dropout - _step__MAX  \\\n",
       "0                                        7  ...                          7   \n",
       "1                                       16  ...                         16   \n",
       "2                                       25  ...                         25   \n",
       "3                                       34  ...                         34   \n",
       "4                                       43  ...                         43   \n",
       "..                                     ...  ...                        ...   \n",
       "195                                   1727  ...                       1727   \n",
       "196                                   1736  ...                       1736   \n",
       "197                                   1745  ...                       1745   \n",
       "198                                   1754  ...                       1754   \n",
       "199                                   1763  ...                       1763   \n",
       "\n",
       "     Adam+Dropout - train_loss_epoch  Adam+Dropout - train_loss_epoch__MIN  \\\n",
       "0                           2.172784                              2.172784   \n",
       "1                           2.064521                              2.064521   \n",
       "2                           2.042034                              2.042034   \n",
       "3                           2.027263                              2.027263   \n",
       "4                           2.018904                              2.018904   \n",
       "..                               ...                                   ...   \n",
       "195                         1.816487                              1.816487   \n",
       "196                         1.816880                              1.816880   \n",
       "197                         1.811998                              1.811998   \n",
       "198                         1.814392                              1.814392   \n",
       "199                         1.823912                              1.823912   \n",
       "\n",
       "     Adam+Dropout - train_loss_epoch__MAX  RMSprop+Dropout - _step  \\\n",
       "0                                2.172784                        7   \n",
       "1                                2.064521                       16   \n",
       "2                                2.042034                       25   \n",
       "3                                2.027263                       34   \n",
       "4                                2.018904                       43   \n",
       "..                                    ...                      ...   \n",
       "195                              1.816487                     1727   \n",
       "196                              1.816880                     1736   \n",
       "197                              1.811998                     1745   \n",
       "198                              1.814392                     1754   \n",
       "199                              1.823912                     1763   \n",
       "\n",
       "     RMSprop+Dropout - _step__MIN  RMSprop+Dropout - _step__MAX  \\\n",
       "0                               7                             7   \n",
       "1                              16                            16   \n",
       "2                              25                            25   \n",
       "3                              34                            34   \n",
       "4                              43                            43   \n",
       "..                            ...                           ...   \n",
       "195                          1727                          1727   \n",
       "196                          1736                          1736   \n",
       "197                          1745                          1745   \n",
       "198                          1754                          1754   \n",
       "199                          1763                          1763   \n",
       "\n",
       "     RMSprop+Dropout - train_loss_epoch  \\\n",
       "0                              3.009720   \n",
       "1                              2.081418   \n",
       "2                              2.052173   \n",
       "3                              2.031971   \n",
       "4                              2.014198   \n",
       "..                                  ...   \n",
       "195                            1.763995   \n",
       "196                            1.769017   \n",
       "197                            1.773915   \n",
       "198                            1.771836   \n",
       "199                            1.765055   \n",
       "\n",
       "     RMSprop+Dropout - train_loss_epoch__MIN  \\\n",
       "0                                   3.009720   \n",
       "1                                   2.081418   \n",
       "2                                   2.052173   \n",
       "3                                   2.031971   \n",
       "4                                   2.014198   \n",
       "..                                       ...   \n",
       "195                                 1.763995   \n",
       "196                                 1.769017   \n",
       "197                                 1.773915   \n",
       "198                                 1.771836   \n",
       "199                                 1.765055   \n",
       "\n",
       "     RMSprop+Dropout - train_loss_epoch__MAX  \n",
       "0                                   3.009720  \n",
       "1                                   2.081418  \n",
       "2                                   2.052173  \n",
       "3                                   2.031971  \n",
       "4                                   2.014198  \n",
       "..                                       ...  \n",
       "195                                 1.763995  \n",
       "196                                 1.769017  \n",
       "197                                 1.773915  \n",
       "198                                 1.771836  \n",
       "199                                 1.765055  \n",
       "\n",
       "[200 rows x 31 columns]"
      ]
     },
     "execution_count": 1,
     "metadata": {},
     "output_type": "execute_result"
    }
   ],
   "source": [
    "import matplotlib.pyplot as plt\n",
    "import pandas as pd\n",
    "\n",
    "df = pd.read_csv(\"./problem1/1_3.csv\")\n",
    "df"
   ]
  },
  {
   "cell_type": "code",
   "execution_count": 3,
   "id": "7d3f6d5b",
   "metadata": {},
   "outputs": [],
   "source": [
    "ori_optimize_name_list = [\"Adagrad\", \"RMSprop\", \"RMSprop+Nesterov\", \"Adadelta\", \"Adam\"]\n",
    "post_fix = \"+Dropout - train_loss_epoch\"\n",
    "optimize_name_list = [x + post_fix for x in ori_optimize_name_list]\n",
    "data = df[optimize_name_list]"
   ]
  },
  {
   "cell_type": "code",
   "execution_count": 5,
   "id": "a29feb3d",
   "metadata": {},
   "outputs": [
    {
     "data": {
      "text/plain": [
       "Text(0, 0.5, 'train_loss')"
      ]
     },
     "execution_count": 5,
     "metadata": {},
     "output_type": "execute_result"
    },
    {
     "data": {
      "image/png": "[encoded data removed]",
      "text/plain": [
       "<Figure size 432x288 with 1 Axes>"
      ]
     },
     "metadata": {
      "needs_background": "light"
     },
     "output_type": "display_data"
    }
   ],
   "source": [
    "import matplotlib.pyplot as plt\n",
    "data = df[optimize_name_list]\n",
    "plt.plot(data)\n",
    "plt.legend(ori_optimize_name_list)\n",
    "plt.xlabel(\"epoch\")\n",
    "plt.ylabel(\"train_loss\")"
   ]
  },
  {
   "cell_type": "code",
   "execution_count": 6,
   "id": "74a289dc",
   "metadata": {},
   "outputs": [
    {
     "data": {
      "text/plain": [
       "Text(0, 0.5, 'train_loss')"
      ]
     },
     "execution_count": 6,
     "metadata": {},
     "output_type": "execute_result"
    },
    {
     "data": {
      "image/png": "[encoded data removed]",
      "text/plain": [
       "<Figure size 432x288 with 1 Axes>"
      ]
     },
     "metadata": {
      "needs_background": "light"
     },
     "output_type": "display_data"
    }
   ],
   "source": [
    "import matplotlib.pyplot as plt\n",
    "data = df[optimize_name_list]\n",
    "plt.plot(data)\n",
    "plt.legend(ori_optimize_name_list)\n",
    "plt.xlabel(\"epoch\")\n",
    "plt.ylim(0, 5)\n",
    "plt.ylabel(\"train_loss\")"
   ]
  },
  {
   "cell_type": "markdown",
   "id": "9fc86863",
   "metadata": {},
   "source": [
    "## 4\n",
    "Compare test accuracy of trained model for all the five methods from part 2 and part 3. Note that to calculate test accuracy of model trained using dropout you need to appropriately scale the weights (by the dropout probability)."
   ]
  },
  {
   "cell_type": "code",
   "execution_count": 13,
   "id": "1c12c34a",
   "metadata": {},
   "outputs": [
    {
     "data": {
      "text/plain": [
       "Adagrad_cifar10 - train_loss_epoch             1.216772\n",
       "RMSprop_cifar10 - train_loss_epoch             0.783713\n",
       "RMSprop+Nesterov_cifar10 - train_loss_epoch    4.109675\n",
       "Adadelta_cifar10 - train_loss_epoch            1.568389\n",
       "Adam_cifar10 - train_loss_epoch                1.653735\n",
       "Name: 199, dtype: float64"
      ]
     },
     "execution_count": 13,
     "metadata": {},
     "output_type": "execute_result"
    }
   ],
   "source": [
    "df = pd.read_csv(\"./problem1/1_2.csv\")\n",
    "ori_optimize_name_list = [\"Adagrad\", \"RMSprop\", \"RMSprop+Nesterov\", \"Adadelta\", \"Adam\"]\n",
    "post_fix = \"_cifar10 - train_loss_epoch\"\n",
    "optimize_name_list = [x + post_fix for x in ori_optimize_name_list]\n",
    "data = df[optimize_name_list]\n",
    "data.iloc[199]"
   ]
  },
  {
   "cell_type": "code",
   "execution_count": 14,
   "id": "7988a055",
   "metadata": {},
   "outputs": [
    {
     "data": {
      "text/plain": [
       "Adagrad+Dropout - train_loss_epoch             1.775750\n",
       "RMSprop+Dropout - train_loss_epoch             1.765055\n",
       "RMSprop+Nesterov+Dropout - train_loss_epoch    2.303345\n",
       "Adadelta+Dropout - train_loss_epoch            1.910109\n",
       "Adam+Dropout - train_loss_epoch                1.823912\n",
       "Name: 199, dtype: float64"
      ]
     },
     "execution_count": 14,
     "metadata": {},
     "output_type": "execute_result"
    }
   ],
   "source": [
    "df = pd.read_csv(\"./problem1/1_3.csv\")\n",
    "ori_optimize_name_list = [\"Adagrad\", \"RMSprop\", \"RMSprop+Nesterov\", \"Adadelta\", \"Adam\"]\n",
    "post_fix = \"+Dropout - train_loss_epoch\"\n",
    "optimize_name_list = [x + post_fix for x in ori_optimize_name_list]\n",
    "data = df[optimize_name_list]\n",
    "data.iloc[199]"
   ]
  },
  {
   "cell_type": "markdown",
   "id": "2d95765e",
   "metadata": {},
   "source": [
    "RMSprop_L2: 0.783713\n",
    "\n",
    "RMSprop+Dropout: 1.765055\n",
    "\n",
    "The dropout method have lower value, the best optimization problem is RMSprop."
   ]
  }
 ],
 "metadata": {
  "kernelspec": {
   "display_name": "Python 3 (ipykernel)",
   "language": "python",
   "name": "python3"
  },
  "language_info": {
   "codemirror_mode": {
    "name": "ipython",
    "version": 3
   },
   "file_extension": ".py",
   "mimetype": "text/x-python",
   "name": "python",
   "nbconvert_exporter": "python",
   "pygments_lexer": "ipython3",
   "version": "3.9.7"
  },
  "widgets": {
   "application/vnd.jupyter.widget-state+json": {
    "state": {},
    "version_major": 2,
    "version_minor": 0
   }
  }
 },
 "nbformat": 4,
 "nbformat_minor": 5
}
