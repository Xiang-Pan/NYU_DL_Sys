{
 "cells": [
  {
   "cell_type": "markdown",
   "id": "5dfe54d0-15e4-4f4e-8805-e8b9b6efe8e3",
   "metadata": {},
   "source": [
    "# Problem 2"
   ]
  },
  {
   "cell_type": "markdown",
   "id": "b56172f1-8a34-42b1-8a81-76e4273a44d7",
   "metadata": {},
   "source": [
    "## 2"
   ]
  },
  {
   "cell_type": "markdown",
   "id": "a4e775bc-ef26-4de1-bb3d-18e4877277e5",
   "metadata": {},
   "source": [
    "\\begin{equation}\n",
    "y(x)=x+\\sin (1.5 x)+\\mathcal{N}(0,0.3)\n",
    "\\end{equation}\n",
    "\n",
    "\\begin{equation}\n",
    "f(x)=x+\\sin (1.5 x) \\text{, } \\epsilon=\\mathcal{N}(0,0.3)\n",
    "\\end{equation}"
   ]
  },
  {
   "cell_type": "code",
   "execution_count": 6,
   "id": "8858879d-f487-453f-a864-442648de79a5",
   "metadata": {},
   "outputs": [],
   "source": [
    "import numpy as np\n",
    "import math"
   ]
  },
  {
   "cell_type": "code",
   "execution_count": 3,
   "id": "056af296-db71-4c75-b679-7eb93afd9236",
   "metadata": {},
   "outputs": [],
   "source": [
    "mu, sigma = 0, 0.3 # mean and standard deviation\n",
    "eps_list = np.random.normal(mu, sigma, 20)"
   ]
  },
  {
   "cell_type": "code",
   "execution_count": 9,
   "id": "484f42ba-7b0d-4cc0-b04c-a3f7b57b3a2b",
   "metadata": {},
   "outputs": [],
   "source": [
    "y_list = []\n",
    "for i in range(20):\n",
    "    y = i + math.sin(i) + eps_list[i]\n",
    "    y_list.append(y)"
   ]
  },
  {
   "cell_type": "code",
   "execution_count": 10,
   "id": "8b797676-096c-4031-a3c5-597f5f8db489",
   "metadata": {},
   "outputs": [],
   "source": [
    "x_list = [i for i in range(20)]"
   ]
  },
  {
   "cell_type": "code",
   "execution_count": 18,
   "id": "b41e5034-012e-4621-85a8-47a4cf857378",
   "metadata": {},
   "outputs": [
    {
     "data": {
      "image/png": "[encoded data removed]",
      "text/plain": [
       "<Figure size 432x288 with 1 Axes>"
      ]
     },
     "metadata": {
      "needs_background": "light"
     },
     "output_type": "display_data"
    }
   ],
   "source": [
    "import matplotlib.pyplot as plt\n",
    "import numpy as np\n",
    "\n",
    "plt.scatter(x_list, y_list)\n",
    "plt.title(\"Sampling x from 0 to 20\")\n",
    "plt.show()"
   ]
  },
  {
   "cell_type": "code",
   "execution_count": null,
   "id": "9f32c682-b0ea-4bb2-90ef-2c1c37e908af",
   "metadata": {},
   "outputs": [],
   "source": []
  }
 ],
 "metadata": {
  "kernelspec": {
   "display_name": "Python 3 (ipykernel)",
   "language": "python",
   "name": "python3"
  },
  "language_info": {
   "codemirror_mode": {
    "name": "ipython",
    "version": 3
   },
   "file_extension": ".py",
   "mimetype": "text/x-python",
   "name": "python",
   "nbconvert_exporter": "python",
   "pygments_lexer": "ipython3",
   "version": "3.9.7"
  }
 },
 "nbformat": 4,
 "nbformat_minor": 5
}
